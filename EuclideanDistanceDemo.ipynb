{
  "nbformat": 4,
  "nbformat_minor": 0,
  "metadata": {
    "colab": {
      "provenance": [],
      "authorship_tag": "ABX9TyNy3KirEdgoceffV9u0umf/"
    },
    "kernelspec": {
      "name": "python3",
      "display_name": "Python 3"
    },
    "language_info": {
      "name": "python"
    }
  },
  "cells": [
    {
      "cell_type": "markdown",
      "source": [
        "#**README**\n",
        "\n",
        "---\n",
        "\n",
        "## About the notebook\n",
        "This notebook demonstrates how Embeddings and the Euclidean Distance can be used to find similarities between polysemous words. A smaller distance means more similarity. We will demonstrate how word2vec handles the word \"Mouse\" and how different meanings would cluster. </br>\n",
        "*Pre-requisites:* To run this notebook, you need an access key to the OpenAI API. You can get your API key from [openai](https://platform.openai.com/account/api-keys).\n",
        "\n",
        "## Topic: Embeddings and Euclidean Distance\n",
        "**Embeddings** are low-dimentional vector representation of complex, high-dimentional data that captures semantic meaning and relationship.</br>\n",
        "**Euclidean Distance** is the straight line distance between two points in a multi-dimensional space.</br>\n",
        "Combined, these help machines understand the human world. </br>\n",
        "Use Case: A popular use case is a recommendation system suggesting \"You may also like...\" — such as Netflix, LinkedIn, Amazon, Dating apps, and many more.</br>\n",
        "How it Works:\n",
        " - Set up the user’s profile as vectors based on their preferences.\n",
        " - Calculate similarities as Euclidean distance between user profiles.\n",
        " - Make Recommendations based on the computed Euclidean distance and the unseen item/content. A smaller distance means more similar taste profiles, which in turn means a better recommendation. </br>\n",
        "\n",
        "## Conclusion\n",
        "Embeddings and Euclidean Distance are foundational concepts in machine learning and data science. Embeddings teach machines how to understand \"meaning\" through mathematics, enabling AI systems to work with concepts rather than just symbols. Euclidean distance quantifies similarity. Smaller distances mean more similar data points.\n",
        "\n",
        "---"
      ],
      "metadata": {
        "id": "95l8jt7Nzbmn"
      }
    },
    {
      "cell_type": "code",
      "source": [
        "# Hands-on excercise using OpenAI API and GPT4.1"
      ],
      "metadata": {
        "id": "tpZF6z5k5xhg"
      },
      "execution_count": 92,
      "outputs": []
    },
    {
      "cell_type": "markdown",
      "source": [
        "### About this excercise:\n",
        "</br>\n",
        "\n",
        "|Category|Description|\n",
        "|:--|:--|\n",
        "|Task |Generate Embeddings and Calculate the Euclidean Distance between different usages of the word \"Mouse\"|\n",
        "|Difficuly Level|Beginner|\n",
        "|Skills|Python|\n",
        "</br>"
      ],
      "metadata": {
        "id": "aiNbHWaS56Bo"
      }
    },
    {
      "cell_type": "code",
      "source": [
        "#Import display and Markdown from IPython for formatted rendering of generated response\n",
        "from IPython.display import Markdown, display"
      ],
      "metadata": {
        "id": "4S9sM-oHZEuo"
      },
      "execution_count": 93,
      "outputs": []
    },
    {
      "cell_type": "code",
      "source": [
        "def printmd(string):\n",
        "    display(Markdown(string))"
      ],
      "metadata": {
        "id": "Q0kBHBi-ZJFu"
      },
      "execution_count": 94,
      "outputs": []
    },
    {
      "cell_type": "markdown",
      "source": [
        "Access setup - This function allows secure access to user-defined secrets stored in the Colab environment, such as API keys."
      ],
      "metadata": {
        "id": "Fa6Otmbw7krb"
      }
    },
    {
      "cell_type": "code",
      "source": [
        "from google.colab import userdata"
      ],
      "metadata": {
        "id": "trcxaijt7m6D"
      },
      "execution_count": 95,
      "outputs": []
    },
    {
      "cell_type": "markdown",
      "source": [
        "Import - interact with the OpenAI API, allows us to make requests to models like GPT-4.1"
      ],
      "metadata": {
        "id": "vxO07gek2Uxg"
      }
    },
    {
      "cell_type": "code",
      "source": [
        "from openai import OpenAI"
      ],
      "metadata": {
        "id": "nKTvt-gC2SxG"
      },
      "execution_count": 96,
      "outputs": []
    },
    {
      "cell_type": "markdown",
      "source": [
        "Configure Access Key - in this exmpale, for open api. </br>\n",
        "How to configure API access keys in Colab:\n",
        "\n",
        "1. Go to the \"🔑\" icon in the left sidebar (Secrets).\n",
        "2. Click \"Add new secret\".\n",
        "3. For the name, use 'openai_api_key'.\n",
        "4. For the value, paste your OpenAI API key.\n",
        "5. Make sure \"Notebook access\" is enabled for this secret."
      ],
      "metadata": {
        "id": "Wq2ZhGP_8t_T"
      }
    },
    {
      "cell_type": "code",
      "source": [
        "client = OpenAI(api_key=userdata.get('openai_api_key'))"
      ],
      "metadata": {
        "id": "nSR-BKW8W1Cf"
      },
      "execution_count": 97,
      "outputs": []
    },
    {
      "cell_type": "markdown",
      "source": [
        "Create Embeddings for multiple inputs where word \"Mouse\" is used in different contexts and meaning:</br>\n",
        "\n",
        "|Context|Similar words|\n",
        "|:--|:--|\n",
        "|Computer Mouse|trackpad, cursor, pointer|\n",
        "|Rodent Mouse|rat, hamster, PEW, Albino rats|\n",
        "|Cartoon Mouse|Mickey mouse, Disney, cartoon|\n",
        "|Personality Mouse|quiet, shy,timid, meek|\n",
        "\n",
        "</br>\n"
      ],
      "metadata": {
        "id": "Q7HKok7nY2_U"
      }
    },
    {
      "cell_type": "code",
      "source": [
        "response_computer_mouse = client.embeddings.create(\n",
        "    input=\"Jimmy has an ergonomically designed mouse\",\n",
        "    model=\"text-embedding-3-small\"\n",
        ")\n",
        "embedding_computer_mouse = response_computer_mouse.data[0].embedding\n",
        "\n",
        "response_rodent_mouse = client.embeddings.create(\n",
        "    input=\"Jimmy saw a rat in the kitchen yesterday\",\n",
        "    model=\"text-embedding-3-small\"\n",
        ")\n",
        "embedding_rodent_mouse = response_rodent_mouse.data[0].embedding\n",
        "\n",
        "response_cartoon_mouse = client.embeddings.create(\n",
        "    input=\"Jimmy loves mickey mouse cartoons\",\n",
        "    model=\"text-embedding-3-small\"\n",
        ")\n",
        "embedding_cartoon_mouse = response_cartoon_mouse.data[0].embedding\n",
        "\n",
        "response_personality_mouse = client.embeddings.create(\n",
        "    input=\"Jimmy is such a mouse when it comes to heated arguments in meetings\",\n",
        "    model=\"text-embedding-3-small\"\n",
        ")\n",
        "embedding_personality_mouse = response_personality_mouse.data[0].embedding\n",
        "\n",
        "response_lab_mouse = client.embeddings.create(\n",
        "    input=\"Jimmy has Albino rats at his labs\",\n",
        "    model=\"text-embedding-3-small\"\n",
        ")\n",
        "embedding_lab_mouse = response_lab_mouse.data[0].embedding"
      ],
      "metadata": {
        "id": "_RclGNWvgs18"
      },
      "execution_count": 98,
      "outputs": []
    },
    {
      "cell_type": "markdown",
      "source": [
        "Import numpy to calculate the Euclidean Distance"
      ],
      "metadata": {
        "id": "FdugQCWFg0d2"
      }
    },
    {
      "cell_type": "code",
      "source": [
        "import numpy as np"
      ],
      "metadata": {
        "id": "3FrLviqqXZkM"
      },
      "execution_count": 99,
      "outputs": []
    },
    {
      "cell_type": "code",
      "source": [
        "point1 = np.array(embedding_computer_mouse)\n",
        "point2 = np.array(embedding_rodent_mouse)\n",
        "point3 = np.array(embedding_cartoon_mouse)\n",
        "point4 = np.array(embedding_personality_mouse)\n",
        "point5 = np.array(embedding_lab_mouse)\n",
        "\n",
        "# Calculate the Euclidean distance\n",
        "distance_computer_mouse_rodent_mouse = np.linalg.norm(point1 - point2)\n",
        "distance_computer_mouse_cartoon_mouse = np.linalg.norm(point1 - point3)\n",
        "distance_computer_mouse_personality_mouse = np.linalg.norm(point1 - point4)\n",
        "distance_computer_mouse_lab_mouse = np.linalg.norm(point1 - point5)\n",
        "\n",
        "distance_rodent_mouse_cartoon_mouse = np.linalg.norm(point2 - point3)\n",
        "distance_rodent_mouse_personality_mouse = np.linalg.norm(point2 - point4)\n",
        "distance_rodent_mouse_lab_mouse = np.linalg.norm(point2 - point5)\n",
        "\n",
        "distance_cartoon_mouse_personality_mouse = np.linalg.norm(point3 - point4)\n",
        "distance_cartoon_mouse_lab_mouse = np.linalg.norm(point3 - point5)\n",
        "\n",
        "distance_personality_mouse_lab_mouse = np.linalg.norm(point4 - point5)"
      ],
      "metadata": {
        "id": "jezmTNM2heTX"
      },
      "execution_count": 100,
      "outputs": []
    },
    {
      "cell_type": "markdown",
      "source": [
        "Print the table to visualize data using pandas and matplotlib's pyplot"
      ],
      "metadata": {
        "id": "bJNpfcARZofw"
      }
    },
    {
      "cell_type": "code",
      "source": [
        "import matplotlib.pyplot as plt"
      ],
      "metadata": {
        "id": "0aEeUQFAXd_D"
      },
      "execution_count": 101,
      "outputs": []
    },
    {
      "cell_type": "code",
      "source": [
        "import pandas as pd"
      ],
      "metadata": {
        "id": "C7vMwfu0Fg2Q"
      },
      "execution_count": 102,
      "outputs": []
    },
    {
      "cell_type": "code",
      "source": [
        "# Create a DataFrame from the labels and distances\n",
        "data = {'Comparison': labels, 'Euclidean Distance': distances}\n",
        "df = pd.DataFrame(data)\n",
        "\n",
        "# Display the DataFrame\n",
        "display(df)"
      ],
      "metadata": {
        "colab": {
          "base_uri": "https://localhost:8080/",
          "height": 363
        },
        "id": "0vT7XW7kYMyo",
        "outputId": "0cac27bf-6eb9-4c38-bb5e-2c5bc79e0532"
      },
      "execution_count": 103,
      "outputs": [
        {
          "output_type": "display_data",
          "data": {
            "text/plain": [
              "                           Comparison  Euclidean Distance\n",
              "0       Computer Mouse - Rodent Mouse            1.079491\n",
              "1      Computer Mouse - Cartoon Mouse            1.094856\n",
              "2  Computer Mouse - Personality Mouse            0.988536\n",
              "3          Computer Mouse - Lab Mouse            1.056408\n",
              "4        Rodent Mouse - Cartoon Mouse            1.073620\n",
              "5    Rodent Mouse - Personality Mouse            1.028826\n",
              "6            Rodent Mouse - Lab Mouse            0.900400\n",
              "7   Cartoon Mouse - Personality Mouse            0.991059\n",
              "8           Cartoon Mouse - Lab Mouse            1.111780\n",
              "9       Personality Mouse - Lab Mouse            1.062185"
            ],
            "text/html": [
              "\n",
              "  <div id=\"df-5487eb2c-2a48-44be-8d1b-a7d0699f7f02\" class=\"colab-df-container\">\n",
              "    <div>\n",
              "<style scoped>\n",
              "    .dataframe tbody tr th:only-of-type {\n",
              "        vertical-align: middle;\n",
              "    }\n",
              "\n",
              "    .dataframe tbody tr th {\n",
              "        vertical-align: top;\n",
              "    }\n",
              "\n",
              "    .dataframe thead th {\n",
              "        text-align: right;\n",
              "    }\n",
              "</style>\n",
              "<table border=\"1\" class=\"dataframe\">\n",
              "  <thead>\n",
              "    <tr style=\"text-align: right;\">\n",
              "      <th></th>\n",
              "      <th>Comparison</th>\n",
              "      <th>Euclidean Distance</th>\n",
              "    </tr>\n",
              "  </thead>\n",
              "  <tbody>\n",
              "    <tr>\n",
              "      <th>0</th>\n",
              "      <td>Computer Mouse - Rodent Mouse</td>\n",
              "      <td>1.079491</td>\n",
              "    </tr>\n",
              "    <tr>\n",
              "      <th>1</th>\n",
              "      <td>Computer Mouse - Cartoon Mouse</td>\n",
              "      <td>1.094856</td>\n",
              "    </tr>\n",
              "    <tr>\n",
              "      <th>2</th>\n",
              "      <td>Computer Mouse - Personality Mouse</td>\n",
              "      <td>0.988536</td>\n",
              "    </tr>\n",
              "    <tr>\n",
              "      <th>3</th>\n",
              "      <td>Computer Mouse - Lab Mouse</td>\n",
              "      <td>1.056408</td>\n",
              "    </tr>\n",
              "    <tr>\n",
              "      <th>4</th>\n",
              "      <td>Rodent Mouse - Cartoon Mouse</td>\n",
              "      <td>1.073620</td>\n",
              "    </tr>\n",
              "    <tr>\n",
              "      <th>5</th>\n",
              "      <td>Rodent Mouse - Personality Mouse</td>\n",
              "      <td>1.028826</td>\n",
              "    </tr>\n",
              "    <tr>\n",
              "      <th>6</th>\n",
              "      <td>Rodent Mouse - Lab Mouse</td>\n",
              "      <td>0.900400</td>\n",
              "    </tr>\n",
              "    <tr>\n",
              "      <th>7</th>\n",
              "      <td>Cartoon Mouse - Personality Mouse</td>\n",
              "      <td>0.991059</td>\n",
              "    </tr>\n",
              "    <tr>\n",
              "      <th>8</th>\n",
              "      <td>Cartoon Mouse - Lab Mouse</td>\n",
              "      <td>1.111780</td>\n",
              "    </tr>\n",
              "    <tr>\n",
              "      <th>9</th>\n",
              "      <td>Personality Mouse - Lab Mouse</td>\n",
              "      <td>1.062185</td>\n",
              "    </tr>\n",
              "  </tbody>\n",
              "</table>\n",
              "</div>\n",
              "    <div class=\"colab-df-buttons\">\n",
              "\n",
              "  <div class=\"colab-df-container\">\n",
              "    <button class=\"colab-df-convert\" onclick=\"convertToInteractive('df-5487eb2c-2a48-44be-8d1b-a7d0699f7f02')\"\n",
              "            title=\"Convert this dataframe to an interactive table.\"\n",
              "            style=\"display:none;\">\n",
              "\n",
              "  <svg xmlns=\"http://www.w3.org/2000/svg\" height=\"24px\" viewBox=\"0 -960 960 960\">\n",
              "    <path d=\"M120-120v-720h720v720H120Zm60-500h600v-160H180v160Zm220 220h160v-160H400v160Zm0 220h160v-160H400v160ZM180-400h160v-160H180v160Zm440 0h160v-160H620v160ZM180-180h160v-160H180v160Zm440 0h160v-160H620v160Z\"/>\n",
              "  </svg>\n",
              "    </button>\n",
              "\n",
              "  <style>\n",
              "    .colab-df-container {\n",
              "      display:flex;\n",
              "      gap: 12px;\n",
              "    }\n",
              "\n",
              "    .colab-df-convert {\n",
              "      background-color: #E8F0FE;\n",
              "      border: none;\n",
              "      border-radius: 50%;\n",
              "      cursor: pointer;\n",
              "      display: none;\n",
              "      fill: #1967D2;\n",
              "      height: 32px;\n",
              "      padding: 0 0 0 0;\n",
              "      width: 32px;\n",
              "    }\n",
              "\n",
              "    .colab-df-convert:hover {\n",
              "      background-color: #E2EBFA;\n",
              "      box-shadow: 0px 1px 2px rgba(60, 64, 67, 0.3), 0px 1px 3px 1px rgba(60, 64, 67, 0.15);\n",
              "      fill: #174EA6;\n",
              "    }\n",
              "\n",
              "    .colab-df-buttons div {\n",
              "      margin-bottom: 4px;\n",
              "    }\n",
              "\n",
              "    [theme=dark] .colab-df-convert {\n",
              "      background-color: #3B4455;\n",
              "      fill: #D2E3FC;\n",
              "    }\n",
              "\n",
              "    [theme=dark] .colab-df-convert:hover {\n",
              "      background-color: #434B5C;\n",
              "      box-shadow: 0px 1px 3px 1px rgba(0, 0, 0, 0.15);\n",
              "      filter: drop-shadow(0px 1px 2px rgba(0, 0, 0, 0.3));\n",
              "      fill: #FFFFFF;\n",
              "    }\n",
              "  </style>\n",
              "\n",
              "    <script>\n",
              "      const buttonEl =\n",
              "        document.querySelector('#df-5487eb2c-2a48-44be-8d1b-a7d0699f7f02 button.colab-df-convert');\n",
              "      buttonEl.style.display =\n",
              "        google.colab.kernel.accessAllowed ? 'block' : 'none';\n",
              "\n",
              "      async function convertToInteractive(key) {\n",
              "        const element = document.querySelector('#df-5487eb2c-2a48-44be-8d1b-a7d0699f7f02');\n",
              "        const dataTable =\n",
              "          await google.colab.kernel.invokeFunction('convertToInteractive',\n",
              "                                                    [key], {});\n",
              "        if (!dataTable) return;\n",
              "\n",
              "        const docLinkHtml = 'Like what you see? Visit the ' +\n",
              "          '<a target=\"_blank\" href=https://colab.research.google.com/notebooks/data_table.ipynb>data table notebook</a>'\n",
              "          + ' to learn more about interactive tables.';\n",
              "        element.innerHTML = '';\n",
              "        dataTable['output_type'] = 'display_data';\n",
              "        await google.colab.output.renderOutput(dataTable, element);\n",
              "        const docLink = document.createElement('div');\n",
              "        docLink.innerHTML = docLinkHtml;\n",
              "        element.appendChild(docLink);\n",
              "      }\n",
              "    </script>\n",
              "  </div>\n",
              "\n",
              "\n",
              "    <div id=\"df-967551c6-d71d-4cbc-85a1-a4046e55dae9\">\n",
              "      <button class=\"colab-df-quickchart\" onclick=\"quickchart('df-967551c6-d71d-4cbc-85a1-a4046e55dae9')\"\n",
              "                title=\"Suggest charts\"\n",
              "                style=\"display:none;\">\n",
              "\n",
              "<svg xmlns=\"http://www.w3.org/2000/svg\" height=\"24px\"viewBox=\"0 0 24 24\"\n",
              "     width=\"24px\">\n",
              "    <g>\n",
              "        <path d=\"M19 3H5c-1.1 0-2 .9-2 2v14c0 1.1.9 2 2 2h14c1.1 0 2-.9 2-2V5c0-1.1-.9-2-2-2zM9 17H7v-7h2v7zm4 0h-2V7h2v10zm4 0h-2v-4h2v4z\"/>\n",
              "    </g>\n",
              "</svg>\n",
              "      </button>\n",
              "\n",
              "<style>\n",
              "  .colab-df-quickchart {\n",
              "      --bg-color: #E8F0FE;\n",
              "      --fill-color: #1967D2;\n",
              "      --hover-bg-color: #E2EBFA;\n",
              "      --hover-fill-color: #174EA6;\n",
              "      --disabled-fill-color: #AAA;\n",
              "      --disabled-bg-color: #DDD;\n",
              "  }\n",
              "\n",
              "  [theme=dark] .colab-df-quickchart {\n",
              "      --bg-color: #3B4455;\n",
              "      --fill-color: #D2E3FC;\n",
              "      --hover-bg-color: #434B5C;\n",
              "      --hover-fill-color: #FFFFFF;\n",
              "      --disabled-bg-color: #3B4455;\n",
              "      --disabled-fill-color: #666;\n",
              "  }\n",
              "\n",
              "  .colab-df-quickchart {\n",
              "    background-color: var(--bg-color);\n",
              "    border: none;\n",
              "    border-radius: 50%;\n",
              "    cursor: pointer;\n",
              "    display: none;\n",
              "    fill: var(--fill-color);\n",
              "    height: 32px;\n",
              "    padding: 0;\n",
              "    width: 32px;\n",
              "  }\n",
              "\n",
              "  .colab-df-quickchart:hover {\n",
              "    background-color: var(--hover-bg-color);\n",
              "    box-shadow: 0 1px 2px rgba(60, 64, 67, 0.3), 0 1px 3px 1px rgba(60, 64, 67, 0.15);\n",
              "    fill: var(--button-hover-fill-color);\n",
              "  }\n",
              "\n",
              "  .colab-df-quickchart-complete:disabled,\n",
              "  .colab-df-quickchart-complete:disabled:hover {\n",
              "    background-color: var(--disabled-bg-color);\n",
              "    fill: var(--disabled-fill-color);\n",
              "    box-shadow: none;\n",
              "  }\n",
              "\n",
              "  .colab-df-spinner {\n",
              "    border: 2px solid var(--fill-color);\n",
              "    border-color: transparent;\n",
              "    border-bottom-color: var(--fill-color);\n",
              "    animation:\n",
              "      spin 1s steps(1) infinite;\n",
              "  }\n",
              "\n",
              "  @keyframes spin {\n",
              "    0% {\n",
              "      border-color: transparent;\n",
              "      border-bottom-color: var(--fill-color);\n",
              "      border-left-color: var(--fill-color);\n",
              "    }\n",
              "    20% {\n",
              "      border-color: transparent;\n",
              "      border-left-color: var(--fill-color);\n",
              "      border-top-color: var(--fill-color);\n",
              "    }\n",
              "    30% {\n",
              "      border-color: transparent;\n",
              "      border-left-color: var(--fill-color);\n",
              "      border-top-color: var(--fill-color);\n",
              "      border-right-color: var(--fill-color);\n",
              "    }\n",
              "    40% {\n",
              "      border-color: transparent;\n",
              "      border-right-color: var(--fill-color);\n",
              "      border-top-color: var(--fill-color);\n",
              "    }\n",
              "    60% {\n",
              "      border-color: transparent;\n",
              "      border-right-color: var(--fill-color);\n",
              "    }\n",
              "    80% {\n",
              "      border-color: transparent;\n",
              "      border-right-color: var(--fill-color);\n",
              "      border-bottom-color: var(--fill-color);\n",
              "    }\n",
              "    90% {\n",
              "      border-color: transparent;\n",
              "      border-bottom-color: var(--fill-color);\n",
              "    }\n",
              "  }\n",
              "</style>\n",
              "\n",
              "      <script>\n",
              "        async function quickchart(key) {\n",
              "          const quickchartButtonEl =\n",
              "            document.querySelector('#' + key + ' button');\n",
              "          quickchartButtonEl.disabled = true;  // To prevent multiple clicks.\n",
              "          quickchartButtonEl.classList.add('colab-df-spinner');\n",
              "          try {\n",
              "            const charts = await google.colab.kernel.invokeFunction(\n",
              "                'suggestCharts', [key], {});\n",
              "          } catch (error) {\n",
              "            console.error('Error during call to suggestCharts:', error);\n",
              "          }\n",
              "          quickchartButtonEl.classList.remove('colab-df-spinner');\n",
              "          quickchartButtonEl.classList.add('colab-df-quickchart-complete');\n",
              "        }\n",
              "        (() => {\n",
              "          let quickchartButtonEl =\n",
              "            document.querySelector('#df-967551c6-d71d-4cbc-85a1-a4046e55dae9 button');\n",
              "          quickchartButtonEl.style.display =\n",
              "            google.colab.kernel.accessAllowed ? 'block' : 'none';\n",
              "        })();\n",
              "      </script>\n",
              "    </div>\n",
              "\n",
              "  <div id=\"id_153bde16-c6f9-4d6f-a2b2-9da8db881898\">\n",
              "    <style>\n",
              "      .colab-df-generate {\n",
              "        background-color: #E8F0FE;\n",
              "        border: none;\n",
              "        border-radius: 50%;\n",
              "        cursor: pointer;\n",
              "        display: none;\n",
              "        fill: #1967D2;\n",
              "        height: 32px;\n",
              "        padding: 0 0 0 0;\n",
              "        width: 32px;\n",
              "      }\n",
              "\n",
              "      .colab-df-generate:hover {\n",
              "        background-color: #E2EBFA;\n",
              "        box-shadow: 0px 1px 2px rgba(60, 64, 67, 0.3), 0px 1px 3px 1px rgba(60, 64, 67, 0.15);\n",
              "        fill: #174EA6;\n",
              "      }\n",
              "\n",
              "      [theme=dark] .colab-df-generate {\n",
              "        background-color: #3B4455;\n",
              "        fill: #D2E3FC;\n",
              "      }\n",
              "\n",
              "      [theme=dark] .colab-df-generate:hover {\n",
              "        background-color: #434B5C;\n",
              "        box-shadow: 0px 1px 3px 1px rgba(0, 0, 0, 0.15);\n",
              "        filter: drop-shadow(0px 1px 2px rgba(0, 0, 0, 0.3));\n",
              "        fill: #FFFFFF;\n",
              "      }\n",
              "    </style>\n",
              "    <button class=\"colab-df-generate\" onclick=\"generateWithVariable('df')\"\n",
              "            title=\"Generate code using this dataframe.\"\n",
              "            style=\"display:none;\">\n",
              "\n",
              "  <svg xmlns=\"http://www.w3.org/2000/svg\" height=\"24px\"viewBox=\"0 0 24 24\"\n",
              "       width=\"24px\">\n",
              "    <path d=\"M7,19H8.4L18.45,9,17,7.55,7,17.6ZM5,21V16.75L18.45,3.32a2,2,0,0,1,2.83,0l1.4,1.43a1.91,1.91,0,0,1,.58,1.4,1.91,1.91,0,0,1-.58,1.4L9.25,21ZM18.45,9,17,7.55Zm-12,3A5.31,5.31,0,0,0,4.9,8.1,5.31,5.31,0,0,0,1,6.5,5.31,5.31,0,0,0,4.9,4.9,5.31,5.31,0,0,0,6.5,1,5.31,5.31,0,0,0,8.1,4.9,5.31,5.31,0,0,0,12,6.5,5.46,5.46,0,0,0,6.5,12Z\"/>\n",
              "  </svg>\n",
              "    </button>\n",
              "    <script>\n",
              "      (() => {\n",
              "      const buttonEl =\n",
              "        document.querySelector('#id_153bde16-c6f9-4d6f-a2b2-9da8db881898 button.colab-df-generate');\n",
              "      buttonEl.style.display =\n",
              "        google.colab.kernel.accessAllowed ? 'block' : 'none';\n",
              "\n",
              "      buttonEl.onclick = () => {\n",
              "        google.colab.notebook.generateWithVariable('df');\n",
              "      }\n",
              "      })();\n",
              "    </script>\n",
              "  </div>\n",
              "\n",
              "    </div>\n",
              "  </div>\n"
            ],
            "application/vnd.google.colaboratory.intrinsic+json": {
              "type": "dataframe",
              "variable_name": "df",
              "summary": "{\n  \"name\": \"df\",\n  \"rows\": 10,\n  \"fields\": [\n    {\n      \"column\": \"Comparison\",\n      \"properties\": {\n        \"dtype\": \"string\",\n        \"num_unique_values\": 10,\n        \"samples\": [\n          \"Cartoon Mouse - Lab Mouse\",\n          \"Computer Mouse - Cartoon Mouse\",\n          \"Rodent Mouse - Personality Mouse\"\n        ],\n        \"semantic_type\": \"\",\n        \"description\": \"\"\n      }\n    },\n    {\n      \"column\": \"Euclidean Distance\",\n      \"properties\": {\n        \"dtype\": \"number\",\n        \"std\": 0.06346744445270444,\n        \"min\": 0.900399892852373,\n        \"max\": 1.1117796852807051,\n        \"num_unique_values\": 10,\n        \"samples\": [\n          1.1117796852807051,\n          1.094855889964931,\n          1.028825735377785\n        ],\n        \"semantic_type\": \"\",\n        \"description\": \"\"\n      }\n    }\n  ]\n}"
            }
          },
          "metadata": {}
        }
      ]
    },
    {
      "cell_type": "markdown",
      "source": [
        "Import seaborn to generate visualization on data"
      ],
      "metadata": {
        "id": "VTFAMHyrAFET"
      }
    },
    {
      "cell_type": "code",
      "source": [
        "import seaborn as sns"
      ],
      "metadata": {
        "id": "JOY7ldTBAMGj"
      },
      "execution_count": 104,
      "outputs": []
    },
    {
      "cell_type": "markdown",
      "source": [
        "Generate heatmap visualization using dataFrame"
      ],
      "metadata": {
        "id": "ePQ8_bS6AgWu"
      }
    },
    {
      "cell_type": "code",
      "metadata": {
        "colab": {
          "base_uri": "https://localhost:8080/",
          "height": 699
        },
        "id": "5f7b7730",
        "outputId": "831f3c9a-8cf0-443b-f3f7-1974e862f397"
      },
      "source": [
        "# Create a square matrix for the heatmap\n",
        "# We need a list of unique labels to create the matrix\n",
        "all_labels = sorted(list(set([item for sublist in [pair.split(' - ') for pair in df['Comparison']] for item in sublist])))\n",
        "\n",
        "# Initialize a matrix with zeros\n",
        "distance_matrix = pd.DataFrame(0.0, index=all_labels, columns=all_labels)\n",
        "\n",
        "# Populate the matrix with distances from the DataFrame\n",
        "for index, row in df.iterrows():\n",
        "    item1, item2 = row['Comparison'].split(' - ')\n",
        "    distance_matrix.loc[item1, item2] = row['Euclidean Distance']\n",
        "    distance_matrix.loc[item2, item1] = row['Euclidean Distance'] # Heatmap is symmetric\n",
        "\n",
        "# Create the heatmap\n",
        "plt.figure(figsize=(10, 8))\n",
        "sns.heatmap(distance_matrix, annot=True, cmap='viridis', fmt=\".2f\")\n",
        "plt.title(\"Euclidean Distance Heatmap Between Embeddings\")\n",
        "plt.show()"
      ],
      "execution_count": 105,
      "outputs": [
        {
          "output_type": "display_data",
          "data": {
            "text/plain": [
              "<Figure size 1000x800 with 2 Axes>"
            ],
            "image/png": "[encoded data removed]"
          },
          "metadata": {}
        }
      ]
    },
    {
      "cell_type": "markdown",
      "source": [
        "---\n",
        "##Congratulations on running this fun exercise!\n",
        "Euclidean distance quantifies similarity - smaller distances mean more similar data points. You just proved it yourself!</br>\n",
        "\n",
        "*Fun Fact:* The shortest distance is ZERO when the words are identical.</br>\n",
        "*Extra Credit:* Check CBOW(Continuous Bag-Of-Words) and Skip-Gram that will further boost your understanding of Word Embeddings.</br>\n",
        "*Pro Tip:* Try variations on rendering output response for words like \"small\" and \"tiny\" or \"bank\"(financial) and \"bank\"(river) and observe difference in how it clusters the data.</br></br>\n",
        "If you are an AI Enthusiast, don't stop here, start experimenting, have fun!</br>"
      ],
      "metadata": {
        "id": "3RB7PQia01Ia"
      }
    }
  ]
}