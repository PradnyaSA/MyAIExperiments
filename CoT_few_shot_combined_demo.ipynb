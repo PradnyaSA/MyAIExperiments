{
  "nbformat": 4,
  "nbformat_minor": 0,
  "metadata": {
    "colab": {
      "provenance": []
    },
    "kernelspec": {
      "name": "python3",
      "display_name": "Python 3"
    },
    "language_info": {
      "name": "python"
    }
  },
  "cells": [
    {
      "cell_type": "markdown",
      "source": [
        "#**README**\n",
        "\n",
        "\n",
        "\n",
        "---\n",
        "\n",
        "\n",
        "\n",
        "## About the notebook\n",
        "\n",
        "This notebook demonstrates a Prompt Engineering technique called **Chain-Of-Thought(CoT)** when combined with **few-shot** prompting. It shows how CoT prompting enhances an AI model's ability to solve complex, multi-step problems.<br>\n",
        "\n",
        "\n",
        "\n",
        "*Pre-requisites:* To run this notebook,\n",
        "\n",
        "- Refer to [Google Colab](https://colab.research.google.com/) to get started instantly, for *free* !\n",
        "\n",
        "- Download and open this notebook in Google Colab.\n",
        "\n",
        "- Get your access key to the [OpenAI](https://platform.openai.com/account/api-keys) API.<br>\n",
        "\n",
        "- Set up this access key under *secrets* in your Google Colab runtime environment. </br>\n",
        "How to configure API access keys in Colab:\n",
        "\n",
        "  - Go to the \"🔑\" icon in the left sidebar (Secrets).\n",
        "  - Click \"Add new secret\".\n",
        "  - For the name, use 'openai_api_key'.\n",
        "  - For the value, paste your OpenAI API key.\n",
        "  - Make sure \"Notebook access\" is enabled for this secret.\n",
        "\n",
        "- You are all set! Have fun!\n",
        "\n",
        "\n",
        "\n",
        "---\n",
        "\n",
        "\n",
        "\n",
        "## Topic: Chain-Of-Thought + few-shots Prompting\n",
        "Evolving models with sophisticated reasoning abilities thrive on techniques such as Chain-of-Thought(CoT), few-shot prompting.<br>\n",
        "CoT prompting technique enables complex reasoning capabilities through intermediate reasoning steps.<br>\n",
        "\n",
        "Here is an example of customer servicing ChatBot experience before CoT:<br>\n",
        "\n",
        "- *customer:* \"I want to change my subscription from standard to premium for 3 months.\"\n",
        "- *chat-bot:* \"Sure, I'd be happy to assist you with that. I just need to verify some information: - Can I have your full name, please? - Could you also provide me with your account or subscription number for verification? As soon as I verify this information, I'll be able to process your request to upgrade to the premium subscription. Thank you!\"\n",
        "\n",
        "This response is quick but lacks the necessary context and transparency from the customer's point of view. It does not inform the customer how the model calculated these fees and whether it's being applied for each month or as a one-time fee to upgrade the subscription.<br>\n",
        "\n",
        "Now, here is how experience changes with CoT+few-shots prompting:<br>\n",
        "- *customer:* \"I want to change my subscription from standard to premium plan for next 3 months.\"\n",
        "\n",
        "- Chatbot's Internal CoT:\n",
        "  - Identify the user's intent: The user wants to upgrade their subscription.\n",
        "\n",
        "  - Access user's account details: Retrieve the current plan (\"Standard\") and billing history.\n",
        "\n",
        "  - Access subscription plan details: Find the cost of the \"Standard\" plan $$($10/month)$$ and the \"Premium\" plan $$($20/month)$$\n",
        "\n",
        "  - Calculate the pro-rated fee: The customer is in the middle of their billing cycle.\n",
        "    - Current plan cost: $10/month.\n",
        "    - New plan cost: $20/month.\n",
        "    - Time remaining in cycle: 15 days (out of 30).\n",
        "    - The price difference is $10/month.\n",
        "    - Calculate the pro-rated fee as $$(New plan cost - Old plan cost) * (Days  remaining / Total days in billing cycle)$$ <br>In this case, $$( \\$20 - \\$10 ) \\\\times ( \\\\frac{15}{30} ) = \\$5$$\n",
        "\n",
        "  - Identify additional fees/terms: Check for any specific upgrade fees or policy changes. The policy states a one-time administrative fee of $5 for a plan change.<br>\n",
        "\n",
        "  - Synthesize the final cost: The total cost will be the pro-rated difference plus the administrative fee:$$(\\$5 + \\$5)=\\$10$$\n",
        "  - Formulate a transparent and helpful response: Break down the cost calculation, explain each component, and confirm the next step.<br>\n",
        "\n",
        "What do you think the response would be?\n",
        "\n",
        "\n",
        "\n",
        "---"
      ],
      "metadata": {
        "id": "fC-NxhKbRHOp"
      }
    },
    {
      "cell_type": "code",
      "source": [
        "# Hands-on excercise using OpenAI API and GPT4.1\n",
        "# This hands-on exercise provides a CoT example that enables AI model articulate it reasoning behind the generated response, improving transperancy."
      ],
      "metadata": {
        "id": "aA98r6bSg5ui"
      },
      "execution_count": 151,
      "outputs": []
    },
    {
      "cell_type": "markdown",
      "source": [
        "### About this excercise:\n",
        "</br>\n",
        "\n",
        "|Category|Description|\n",
        "|:--|:--|\n",
        "|Task |Customer Servicing Application that answers customer inquiries step-by-step|\n",
        "|Difficuly Level|Intermediate|\n",
        "|Skills|Python|\n",
        "</br>"
      ],
      "metadata": {
        "id": "t5fX29goEYf1"
      }
    },
    {
      "cell_type": "code",
      "source": [
        "#Import display and Markdown from IPython for formatted rendering of generated response\n",
        "from IPython.display import Markdown, display"
      ],
      "metadata": {
        "id": "tOBg13jg816S"
      },
      "execution_count": 152,
      "outputs": []
    },
    {
      "cell_type": "code",
      "source": [
        "def printmd(string):\n",
        "    display(Markdown(string))"
      ],
      "metadata": {
        "id": "g4Ox90irebfo"
      },
      "execution_count": 153,
      "outputs": []
    },
    {
      "cell_type": "markdown",
      "source": [
        "Access setup - This function allows secure access to user-defined secrets stored in the Colab environment, such as API keys."
      ],
      "metadata": {
        "id": "FSAEuTOnSndK"
      }
    },
    {
      "cell_type": "code",
      "source": [
        "from google.colab import userdata"
      ],
      "metadata": {
        "id": "NL9XsB60uMzL"
      },
      "execution_count": 154,
      "outputs": []
    },
    {
      "cell_type": "markdown",
      "source": [
        "Import - interact with the OpenAI API, allows us to make requests to models like GPT-4.1"
      ],
      "metadata": {
        "id": "FM78qcTOSOdK"
      }
    },
    {
      "cell_type": "code",
      "execution_count": 155,
      "metadata": {
        "id": "VXpCYVk5uGDG"
      },
      "outputs": [],
      "source": [
        "from openai import OpenAI"
      ]
    },
    {
      "cell_type": "code",
      "source": [
        "client = OpenAI(api_key=userdata.get('openai_api_key'))"
      ],
      "metadata": {
        "id": "v8tFQuE3uNLQ"
      },
      "execution_count": 156,
      "outputs": []
    },
    {
      "cell_type": "markdown",
      "source": [
        "**Attempt 1:** Add few-shots or examples to force the generic model to think-out-loud before generating a response (in CoT style)."
      ],
      "metadata": {
        "id": "VkRhL7yEwyQT"
      }
    },
    {
      "cell_type": "code",
      "source": [
        "message = \"I want to change my subscription from standard plan to premium plan for 3 months\""
      ],
      "metadata": {
        "id": "Dndyy04srTkB"
      },
      "execution_count": 157,
      "outputs": []
    },
    {
      "cell_type": "code",
      "source": [
        "inputs = [\n",
        "        {\"role\": \"system\", \"content\": \"You are a helpful customer service assistant. Use step-by-step approach to service the customer request with Greetings, Response\"},\n",
        "        {\"role\": \"user\", \"content\": \"request: I want to continue my current subscription plan\"},\n",
        "        {\"role\": \"assistant\", \"content\": \"Category: Continuation\"},\n",
        "        {\"role\": \"assistant\", \"content\": \"Greetings: Most Certainly, I can help you with the extension of your current plan\"},\n",
        "        {\"role\": \"assistant\", \"content\": \"Intent: The user wants to continue their subscription as is.\"},\n",
        "        {\"role\": \"assistant\", \"content\": \"Intent: The user wants to continue their subscription as is.\"},\n",
        "        {\"role\": \"assistant\", \"content\": \"account-details: Retrieve the current plan 'Standard', 'Premium' and billing history.\"},\n",
        "        {\"role\": \"assistant\", \"content\": \"plan-details: Find the cost of the 'Standard' plan $10/month and the 'Premium' plan $20/month\"},\n",
        "        {\"role\": \"assistant\", \"content\": \"pro-rated-fee: The customer is continuing same plan, so calculation is not required.\"},\n",
        "        {\"role\": \"assistant\", \"content\": \"additional-fees-terms: Check for any specific upgrade fees or policy changes. The policy states no additional fees for same plan continuation.\"},\n",
        "        {\"role\": \"assistant\", \"content\": \"final-cost: The total cost will be 0 pro-rated difference plus the 0 administrative fee:\"},\n",
        "        {\"role\": \"assistant\", \"content\": \"response: Break down the cost calculation, explain each component, and confirm the next step.\"},\n",
        "        {\"role\": \"assistant\", \"content\": \"response: The total cost is $10 + $0 = $10. Customer will not be charged anything extra.\"},\n",
        "        {\"role\": \"assistant\", \"content\": \"response: The total cost for each following month after extension will remian same.\"},\n",
        "        {\"role\": \"assistant\", \"content\": \"feedback: Check if the user has any feedback on current plan. Thank customer for extension.\"},\n",
        "\n",
        "        {\"role\": \"user\", \"content\": \"request: I want to change my subscription from premium to standard plan\"},\n",
        "        {\"role\": \"assistant\", \"content\": \"Category: Downgrade\"},\n",
        "        {\"role\": \"assistant\", \"content\": \"Confidence: High\"},\n",
        "        {\"role\": \"assistant\", \"content\": \"Intent: The user wants to downgrade their subscription.\"},\n",
        "        {\"role\": \"assistant\", \"content\": \"Greetings: Sure, I can help you with the change to a different plan\"},\n",
        "        {\"role\": \"assistant\", \"content\": \"account-details: Retrieve the current plan 'Premium' and billing history.\"},\n",
        "        {\"role\": \"assistant\", \"content\": \"plan-details: Find the cost of the 'Standard' plan $10/month and the 'Premium' plan $20/month\"},\n",
        "        {\"role\": \"assistant\", \"content\": \"pro-rated-fee: The customer is in the middle of their billing cycle.\"},\n",
        "        {\"role\": \"assistant\", \"content\": \"additional-fees-terms: Check for any specific upgrade fees or policy changes. The policy states a one-time administrative fee of $5 for a plan change.\"},\n",
        "        {\"role\": \"assistant\", \"content\": \"final-cost: The total cost will be the pro-rated difference plus the administrative fee:\"},\n",
        "        {\"role\": \"assistant\", \"content\": \"response: Break down the cost calculation, explain each component, and confirm the next step.\"},\n",
        "        {\"role\": \"assistant\", \"content\": \"response: The total cost is -$10 + $5 = -$5. Customer will be saving $5 on the next billing cycle.\"},\n",
        "        {\"role\": \"assistant\", \"content\": \"response: The total cost for each following month after upgrade will $10.\"},\n",
        "        {\"role\": \"assistant\", \"content\": \"feedback: Check if the user has any feedback on current plan. ask reason for downgrade.\"},\n",
        "\n",
        "        {\"role\": \"user\", \"content\": \"request: I want to change my subscription from standard to premium plan\"},\n",
        "        {\"role\": \"assistant\", \"content\": \"Category: Upgrade\"},\n",
        "        {\"role\": \"assistant\", \"content\": \"Confidence: High\"},\n",
        "        {\"role\": \"assistant\", \"content\": \"Intent: The user wants to upgrade their subscription.\"},\n",
        "        {\"role\": \"assistant\", \"content\": \"Greetings: Excellent Choice! Let me help you with the upgrade to a premium plan\"},\n",
        "        {\"role\": \"assistant\", \"content\": \"account-details: Retrieve the current Standard plan and billing history.\"},\n",
        "        {\"role\": \"assistant\", \"content\": \"plan-details: Find the cost of the 'Standard' plan $10/month and the 'Premium' plan $20/month\"},\n",
        "        {\"role\": \"assistant\", \"content\": \"pro-rated-fee: The customer is in the middle of their billing cycle.\"},\n",
        "        {\"role\": \"assistant\", \"content\": \"additional-fees-terms: Check for any specific upgrade fees or policy changes. The policy states a one-time administrative fee of $5 for a plan change.\"},\n",
        "        {\"role\": \"assistant\", \"content\": \"final-cost: The total cost will be the pro-rated difference plus the administrative fee:\"},\n",
        "        {\"role\": \"assistant\", \"content\": \"response: Break down the cost calculation, explain each component, and confirm the next step.\"},\n",
        "        {\"role\": \"assistant\", \"content\": \"response: The total cost is $10 + $5 = $15.\"},\n",
        "        {\"role\": \"assistant\", \"content\": \"response: The total cost for each following month after upgrade will $20.\"},\n",
        "        {\"role\": \"assistant\", \"content\": \"feedback: Provide details of upgrade as 'Ulimited access' and congratulate on upgrade. Thank customer.\"},\n",
        "        {\"role\": \"user\", \"content\": f\"Answer the following question: {message}\"}\n",
        "    ]"
      ],
      "metadata": {
        "id": "fS9yjRlxyTXe"
      },
      "execution_count": 158,
      "outputs": []
    },
    {
      "cell_type": "code",
      "source": [
        "response_cot_fewshots = client.chat.completions.create(\n",
        "    model='gpt-4.1',\n",
        "    messages= inputs,\n",
        "    max_tokens=2480, #cost efficiency, concise response\n",
        "    temperature=0 #want the model to be consistent and factual. Low temperature for consistent classification.\n",
        ")"
      ],
      "metadata": {
        "id": "tciPs-iYG0ja"
      },
      "execution_count": 159,
      "outputs": []
    },
    {
      "cell_type": "markdown",
      "source": [
        "Print the response generated by AI model for a given prompt"
      ],
      "metadata": {
        "id": "ulb4jh5SxBMu"
      }
    },
    {
      "cell_type": "code",
      "source": [
        "about_this_print='Following is how the generic model responds with CoT and added few-shots to prompt:'\n",
        "printmd('<div style=\"background-color: lightblue; padding: 10px;\">%s</div><br>' % about_this_print)\n",
        "\n",
        "response_text = response_cot_fewshots.choices[0].message.content.strip()\n",
        "formatted_text = \"<br>\".join(response_text.split('\\n'))\n",
        "printmd('<div style=\"background-color: lightblue; padding: 10px;\">%s</div>' % formatted_text)"
      ],
      "metadata": {
        "id": "Q1ys6iR7HyLf",
        "colab": {
          "base_uri": "https://localhost:8080/",
          "height": 389
        },
        "outputId": "41175590-c9c4-44c1-c663-b55a745bba70"
      },
      "execution_count": 160,
      "outputs": [
        {
          "output_type": "display_data",
          "data": {
            "text/plain": [
              "<IPython.core.display.Markdown object>"
            ],
            "text/markdown": "<div style=\"background-color: lightblue; padding: 10px;\">Following is how the generic model responds with CoT and added few-shots to prompt:</div><br>"
          },
          "metadata": {}
        },
        {
          "output_type": "display_data",
          "data": {
            "text/plain": [
              "<IPython.core.display.Markdown object>"
            ],
            "text/markdown": "<div style=\"background-color: lightblue; padding: 10px;\">Greetings: Thank you for your request! I’d be happy to help you upgrade your subscription from the Standard plan to the Premium plan for 3 months.<br><br>Step 1: Plan Details  <br>- Standard Plan: $10/month  <br>- Premium Plan: $20/month<br><br>Step 2: Upgrade Process  <br>- You will be upgraded to the Premium plan for the next 3 months.<br>- After 3 months, you can choose to continue with Premium, switch back to Standard, or cancel.<br><br>Step 3: Cost Calculation  <br>- Premium Plan for 3 months: $20 x 3 = $60  <br>- If you are in the middle of your current billing cycle, a pro-rated charge may apply for the remaining days of this month, plus the full amount for the next 2 months.<br>- There may be a one-time administrative fee of $5 for the plan change (please confirm if this applies to your account).<br><br>Step 4: Next Steps  <br>- Please confirm if you’d like to proceed with the upgrade and if you want the change to take effect immediately or at the start of your next billing cycle.<br>- Once confirmed, I will process the upgrade and send you a summary of the charges.<br><br>Would you like to proceed with the upgrade to Premium for 3 months? If yes, should the change start now or with your next billing cycle?</div>"
          },
          "metadata": {}
        }
      ]
    },
    {
      "cell_type": "markdown",
      "source": [
        "Build information so it can be sent to the AI model as part of prompt."
      ],
      "metadata": {
        "id": "TEHjzjpDxUIE"
      }
    },
    {
      "cell_type": "markdown",
      "source": [
        "**Attempt 2:** Add examples like few-shots to an evolved reasoning model so the model learns from examples and splits the complex task into multiple steps in CoT style."
      ],
      "metadata": {
        "id": "ShyOPBVixpUK"
      }
    },
    {
      "cell_type": "code",
      "source": [
        "response_auto_cot = client.responses.create(\n",
        "    model='o4-mini',\n",
        "    input=inputs,\n",
        "    reasoning={\"effort\": \"high\"},\n",
        "    max_output_tokens=10000,\n",
        "    stream=False\n",
        ")"
      ],
      "metadata": {
        "id": "t_PoApy7uPbY"
      },
      "execution_count": 161,
      "outputs": []
    },
    {
      "cell_type": "markdown",
      "source": [
        "Print the response generated by AI model for a given prompt"
      ],
      "metadata": {
        "id": "6lVSke2kyAk2"
      }
    },
    {
      "cell_type": "code",
      "source": [
        "about_this_print='Following is how the evolved reasoning model responds to a CoT + few-shots prompt:<br><br>'\n",
        "printmd('<div style=\"background-color: #a8ee90; padding: 10px;\">%s</div>' % about_this_print)\n",
        "printmd('<div style=\"background-color: #a8ee90; padding: 10px;\">%s</div>' % response_auto_cot.output_text)"
      ],
      "metadata": {
        "id": "5CnMi0TFud6k",
        "collapsed": true,
        "colab": {
          "base_uri": "https://localhost:8080/",
          "height": 390
        },
        "outputId": "8ad75f15-e876-4073-ab0d-1685f8917b99"
      },
      "execution_count": 162,
      "outputs": [
        {
          "output_type": "display_data",
          "data": {
            "text/plain": [
              "<IPython.core.display.Markdown object>"
            ],
            "text/markdown": "<div style=\"background-color: #a8ee90; padding: 10px;\">Following is how the evolved reasoning model responds to a CoT + few-shots prompt:<br><br></div>"
          },
          "metadata": {}
        },
        {
          "output_type": "display_data",
          "data": {
            "text/plain": [
              "<IPython.core.display.Markdown object>"
            ],
            "text/markdown": "<div style=\"background-color: #a8ee90; padding: 10px;\">Greetings! I can certainly set up a 3-month Premium trial for you. Here’s how it works:\n\n1. Current plan  \n   • Standard at $10/month\n\n2. New plan  \n   • Premium at $20/month for the next 3 billing cycles  \n   • After 3 months, you’ll automatically revert back to Standard at $10/month\n\n3. Fees  \n   • One-time administrative fee of $5 when we upgrade you today  \n   • One-time administrative fee of $5 when we downgrade you back in 3 months\n\n4. Charges overview  \n   • Months 1–3: Premium at $20/mo, billed on your normal renewal date  \n   • Upgrade fee (today): $5  \n   • Downgrade fee (at the end of month 3): $5  \n\nExample billing sequence  \n– Next invoice: $20 (Premium) + $5 (upgrade fee) = $25  \n– Following two months: $20 each  \n– In 3 months’ time: $5 (downgrade fee) plus $10 (Standard) on that renewal  \n\nPlease confirm if you’d like me to proceed with this plan change starting on your next billing date. If you prefer to switch immediately (and pay a pro-rated Premium charge for the remainder of this cycle), let me know and I’ll calculate that for you.</div>"
          },
          "metadata": {}
        }
      ]
    },
    {
      "cell_type": "markdown",
      "source": [
        "---\n",
        "\n",
        "##Congratulations on running this fun exercise!\n",
        "\n",
        "\n",
        "\n",
        "CoT combined with few-shots prompting enables the AI model to articulate reasoning, making it visible to the customer and helping build confidence, generating more deterministic and consistent responses to complex problems. Customer experience quality improves, and this technique extends easily across domains for complex tasks. You just proved it yourself!<br>\n",
        "\n",
        "\n",
        "\n",
        "\n",
        "\n",
        "**Fun Fact:** Did you notice, we chose different models to show the difference in results?<br>\n",
        "\n",
        "\n",
        "\n",
        "**Extra Credit:** Try variations with evolved reasoning models and observe different responses. Have you tried the new GPT-5?<br>\n",
        "\n",
        "\n",
        "\n",
        "**Pro Tip:** The true power of CoT is better realized when combined with other techniques like *few-shot* prompting. Customer service applications using this technique have reported a remarkable 60-80% higher customer satisfaction with just efficient promoting techniques!<br><br>\n",
        "\n",
        "\n",
        "\n",
        "If you are an AI Enthusiast, don't stop here - you could start with your first, simple chatbot application based on CoT+few-shots. Happy Prompt Engineering!<br>"
      ],
      "metadata": {
        "id": "LTIH5nRkx4b5"
      }
    }
  ]
}