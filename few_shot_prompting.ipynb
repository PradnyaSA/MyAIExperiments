{
  "nbformat": 4,
  "nbformat_minor": 0,
  "metadata": {
    "colab": {
      "provenance": []
    },
    "kernelspec": {
      "name": "python3",
      "display_name": "Python 3"
    },
    "language_info": {
      "name": "python"
    }
  },
  "cells": [
    {
      "cell_type": "markdown",
      "source": [
        "#**README**\n",
        "\n",
        "---\n",
        "\n",
        "## About the notebook\n",
        "This notebook demonstrates a Prompt Engineering technique called few-shot prompting.\n",
        "It shows how few-shot prompting fine-tunes the model's behavior for a specific task and context.<br>\n",
        "\n",
        "*Pre-requisites:* To run this notebook, you need an access key to the OpenAI API. You can get your API key from [openai](https://platform.openai.com/account/api-keys).\n",
        "\n",
        "## Topic: few-shot Prompting\n",
        "Evolving models with sophisticated reasoning abilities thrive on techniques such as Chain-of-Thought(CoT), few-shot prompting.<br>\n",
        "Few-shot prompting is a technique where you give the model a few examples of a task before asking it to complete a new, similar task. Instead of just giving a single instruction, you provide a handful of high-quality examples. It's most effective when built using a structured approach with consistent, concise examples.<br>\n",
        "\n",
        "\n",
        "Here is how few-shot prompting works:<br>\n",
        "- Task: Classify the sentiment of customer reviews as positive, negative, or neutral.\n",
        "- Examples:\n",
        " - review: \"Great product for such a low price! Love it!\"\n",
        " - Category: positive<br>\n",
        "  \n",
        " - review: \"Poor quality of material, lost shine in a month.\"\n",
        " - Category: negative<br>\n",
        "\n",
        " - review: \"I was able to use it as a one-time use product. Looking at the low price, I got what I paid for, so I can't complain.\"\n",
        " - Category: neutral<br>  \n",
        "\n",
        "- Now, classify this review:\n",
        " - review: \"I ordered in medium size, but it's quite small compared to how it appears online. The Size chart is incorrect.\"\n",
        "\n",
        "What do you think the response would be?\n",
        "\n",
        "## Conclusion\n",
        "Few-shot prompting enables the AI model to perform consistently in a cost-effective manner, and it particularly excels at routine, pattern-recognition tasks, freeing up your capacity for the complex tasks. You would not want to miss that benefit!\n",
        "\n",
        "---"
      ],
      "metadata": {
        "id": "fC-NxhKbRHOp"
      }
    },
    {
      "cell_type": "code",
      "source": [
        "# Hands-on excercise using OpenAI API and GPT4.1\n",
        "# This hands-on exercise provides a few-shots or examples to the prompt so the model response is more consistent following those examples."
      ],
      "metadata": {
        "id": "aA98r6bSg5ui"
      },
      "execution_count": 21,
      "outputs": []
    },
    {
      "cell_type": "markdown",
      "source": [
        "### About this excercise:\n",
        "</br>\n",
        "\n",
        "|Category|Description|\n",
        "|:--|:--|\n",
        "|Task |Oraganize customer emails into Categories with Confidence and Reasoning.|\n",
        "|Difficuly Level|Beginner|\n",
        "|Skills|Python|\n",
        "</br>"
      ],
      "metadata": {
        "id": "t5fX29goEYf1"
      }
    },
    {
      "cell_type": "code",
      "source": [
        "#Import display and Markdown from IPython for formatted rendering of generated response\n",
        "from IPython.display import Markdown, display"
      ],
      "metadata": {
        "id": "tOBg13jg816S"
      },
      "execution_count": 22,
      "outputs": []
    },
    {
      "cell_type": "code",
      "source": [
        "def printmd(string):\n",
        "    display(Markdown(string))"
      ],
      "metadata": {
        "id": "g4Ox90irebfo"
      },
      "execution_count": 23,
      "outputs": []
    },
    {
      "cell_type": "markdown",
      "source": [
        "Access setup - This function allows secure access to user-defined secrets stored in the Colab environment, such as API keys."
      ],
      "metadata": {
        "id": "FSAEuTOnSndK"
      }
    },
    {
      "cell_type": "code",
      "source": [
        "from google.colab import userdata"
      ],
      "metadata": {
        "id": "NL9XsB60uMzL"
      },
      "execution_count": 24,
      "outputs": []
    },
    {
      "cell_type": "markdown",
      "source": [
        "Import - interact with the OpenAI API, allows us to make requests to models like GPT-4.1"
      ],
      "metadata": {
        "id": "FM78qcTOSOdK"
      }
    },
    {
      "cell_type": "code",
      "execution_count": 25,
      "metadata": {
        "id": "VXpCYVk5uGDG"
      },
      "outputs": [],
      "source": [
        "from openai import OpenAI"
      ]
    },
    {
      "cell_type": "markdown",
      "source": [
        "Configure Access Key - in this exmpale, for open api. </br>\n",
        "How to configure API access keys in Colab:\n",
        "\n",
        "1. Go to the \"🔑\" icon in the left sidebar (Secrets).\n",
        "2. Click \"Add new secret\".\n",
        "3. For the name, use 'openai_api_key'.\n",
        "4. For the value, paste your OpenAI API key.\n",
        "5. Make sure \"Notebook access\" is enabled for this secret.\n"
      ],
      "metadata": {
        "id": "7YmYmdejTN36"
      }
    },
    {
      "cell_type": "code",
      "source": [
        "client = OpenAI(api_key=userdata.get('openai_api_key'))"
      ],
      "metadata": {
        "id": "v8tFQuE3uNLQ"
      },
      "execution_count": 26,
      "outputs": []
    },
    {
      "cell_type": "markdown",
      "source": [
        "**Attempt 1:** An unstructured/poorly structured prompt for AI model to process"
      ],
      "metadata": {
        "id": "VkRhL7yEwyQT"
      }
    },
    {
      "cell_type": "code",
      "source": [
        "response = client.responses.create(\n",
        "    model='gpt-4.1',\n",
        "    instructions= 'Oraganize customer emails into Categories: ENHANCEMENT, CONSULTING, BILLING, URGENT with Confidence and Reasoning.',\n",
        "    input='\"email\": \"I am enrolled in premium plan and the advanced features like spending reports are not showing up. Fix it\"'\n",
        ")"
      ],
      "metadata": {
        "id": "tciPs-iYG0ja"
      },
      "execution_count": 27,
      "outputs": []
    },
    {
      "cell_type": "markdown",
      "source": [
        "Print the response generated by AI model for a given prompt"
      ],
      "metadata": {
        "id": "ulb4jh5SxBMu"
      }
    },
    {
      "cell_type": "code",
      "source": [
        "printmd('<div style=\"background-color: lightblue; padding: 10px;\">%s</div>' % response.output_text)"
      ],
      "metadata": {
        "id": "Q1ys6iR7HyLf",
        "colab": {
          "base_uri": "https://localhost:8080/",
          "height": 69
        },
        "outputId": "578eb4b9-918b-4911-cc39-1796dd29f2af"
      },
      "execution_count": 28,
      "outputs": [
        {
          "output_type": "display_data",
          "data": {
            "text/plain": [
              "<IPython.core.display.Markdown object>"
            ],
            "text/markdown": "<div style=\"background-color: lightblue; padding: 10px;\">**Category:** URGENT  \n**Confidence:** High  \n**Reasoning:**  \nThe customer is currently enrolled in a premium plan and is unable to access advanced features they are entitled to. The tone (\"Fix it\") indicates frustration and a need for immediate resolution, making it urgent. While this message relates to features (which could be ENHANCEMENT), the emphasis is on resolving a malfunction with a paid service, which requires prompt attention, hence URGENT.</div>"
          },
          "metadata": {}
        }
      ]
    },
    {
      "cell_type": "markdown",
      "source": [
        "Build information so it can be sent to the AI model as part of prompt."
      ],
      "metadata": {
        "id": "TEHjzjpDxUIE"
      }
    },
    {
      "cell_type": "markdown",
      "source": [
        "**Attempt 2:** A Structured prompt for AI model to process"
      ],
      "metadata": {
        "id": "ShyOPBVixpUK"
      }
    },
    {
      "cell_type": "code",
      "source": [
        "response = client.chat.completions.create(\n",
        "    model='gpt-4.1',\n",
        "    messages=[\n",
        "        {\"role\": \"system\", \"content\": \"Oraganize customer emails into Categories: ENHANCEMENT, CONSULTING, BILLING, URGENT with Confidence and Reasoning.\"},\n",
        "        {\"role\": \"user\", \"content\": \"email: I see duplicate charges for same purchase on my monthly statement. Fix this asap.\"},\n",
        "        {\"role\": \"assistant\", \"content\": \"Category: URGENT\"},\n",
        "        {\"role\": \"assistant\", \"content\": \"Confidence: High\"},\n",
        "        {\"role\": \"assistant\", \"content\": \"Reasoning: Indicates customer experience impact\"},\n",
        "        {\"role\": \"user\", \"content\": \"email: Can you provide comparison between standard and premium membership plans?\"},\n",
        "        {\"role\": \"assistant\", \"content\": \"Category: BILLING\"},\n",
        "        {\"role\": \"assistant\", \"content\": \"Confidence: Medium\"},\n",
        "        {\"role\": \"assistant\", \"content\": \"Reasoning: Provides information for pricing comparison\"},\n",
        "        {\"role\": \"user\", \"content\": \"email: I am able to see the product enrollment options online(my computer) but not load on my mobile. It would be nice to see that available on mobile.\"},\n",
        "        {\"role\": \"assistant\", \"content\": \"Category: ENHANCEMENT\"},\n",
        "        {\"role\": \"assistant\", \"content\": \"Confidence: Low\"},\n",
        "        {\"role\": \"assistant\", \"content\": \"Reasoning: Suggests enhancement options\"},\n",
        "        {\"role\": \"user\", \"content\": \"email: If I enroll in premium plan, do I get Identity Theft Protection for free?\"},\n",
        "        {\"role\": \"assistant\", \"content\": \"Category: CONSULTING\"},\n",
        "        {\"role\": \"assistant\", \"content\": \"Confidence: High\"},\n",
        "        {\"role\": \"assistant\", \"content\": \"Reasoning: Provides assistance for enrolling in premium plan\"},\n",
        "        {\"role\": \"user\", \"content\": \"email: I am enrolled in premium plan which comes with free a Identity Theft Protection subscription for 3 months, however I am charged for it. I want an explaination and revert those charges immediately.\"}, #example of edge case\n",
        "        {\"role\": \"assistant\", \"content\": \"Category: URGENT\"},\n",
        "        {\"role\": \"assistant\", \"content\": \"Confidence: High\"},\n",
        "        {\"role\": \"assistant\", \"content\": \"Reasoning: Indicates customer experience impact\"},\n",
        "        {\"role\": \"user\", \"content\": 'email: I am enrolled in premium plan and the advanced features like spending reports are not showing up. Fix it'},\n",
        "    ],\n",
        "    max_tokens=100, #cost efficiency, concise response\n",
        "    temperature=0 #want the model to be consistent and factual. Low temperature for consistent classification.\n",
        ")"
      ],
      "metadata": {
        "id": "t_PoApy7uPbY"
      },
      "execution_count": 29,
      "outputs": []
    },
    {
      "cell_type": "markdown",
      "source": [
        "Print the response generated by AI model for a given prompt"
      ],
      "metadata": {
        "id": "6lVSke2kyAk2"
      }
    },
    {
      "cell_type": "code",
      "source": [
        "response_text = response.choices[0].message.content.strip()\n",
        "formatted_text = \"<br>\".join(response_text.split('\\n'))\n",
        "printmd('<div style=\"background-color: #a8ee90; padding: 10px;\">%s</div>' % formatted_text)"
      ],
      "metadata": {
        "id": "5CnMi0TFud6k",
        "collapsed": true,
        "colab": {
          "base_uri": "https://localhost:8080/",
          "height": 104
        },
        "outputId": "bf49c205-b93e-47ef-f707-b3ae8df89c75"
      },
      "execution_count": 30,
      "outputs": [
        {
          "output_type": "display_data",
          "data": {
            "text/plain": [
              "<IPython.core.display.Markdown object>"
            ],
            "text/markdown": "<div style=\"background-color: #a8ee90; padding: 10px;\">Category: URGENT<br><br>Confidence: High<br><br>Reasoning: The customer is experiencing a service disruption with features that should be available, and requests immediate resolution.</div>"
          },
          "metadata": {}
        }
      ]
    },
    {
      "cell_type": "markdown",
      "source": [
        "---\n",
        "##Congratulations on running this fun exercise!\n",
        "A few-shot prompting technique improves an AI model's ability to generate more deterministic and consistent responses. You just proved it yourself!<br>\n",
        "\n",
        "\n",
        "*Fun Fact:* Did you realize we just wrote a few lines of messages with examples and made AI do all the work for us?<br>\n",
        "\n",
        "*Extra Credit:* Try variations on tokens and temperature and observe different responses. <br>\n",
        "\n",
        "*Pro Tip:* Overwhelming the AI model with large number(say 15+) of exmaples defeats the purpose of *few*-shot prompting. <br><br>\n",
        "\n",
        "If you are an AI Enthusiast, don't stop here - your next routine, pattern-based task awaits you on the AI side. Try it!<br>"
      ],
      "metadata": {
        "id": "LTIH5nRkx4b5"
      }
    }
  ]
}