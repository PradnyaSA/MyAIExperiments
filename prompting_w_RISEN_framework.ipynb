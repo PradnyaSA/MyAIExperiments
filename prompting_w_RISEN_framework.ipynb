{
  "nbformat": 4,
  "nbformat_minor": 0,
  "metadata": {
    "colab": {
      "provenance": []
    },
    "kernelspec": {
      "name": "python3",
      "display_name": "Python 3"
    },
    "language_info": {
      "name": "python"
    }
  },
  "cells": [
    {
      "cell_type": "markdown",
      "source": [
        "#**README**\n",
        "\n",
        "---\n",
        "\n",
        "## About the notebook\n",
        "This notebook demonstrates a structured approach to prompt engineering using frameworks such as the R.I.S.E.N. framework.\n",
        "It also shows the difference in responses between unstructured/poorly structured and structured prompts.</br>\n",
        "*Pre-requisites:* To run this notebook, you need an access key to the OpenAI API. You can get your API key from [openai](https://platform.openai.com/account/api-keys).\n",
        "\n",
        "## Topic: Prompt Engineering with a structured approach\n",
        "Prompt Engineering is a critical skill for maximizing AI performance, Optimizing Cost and Efficiency at scale, and Improving Consistency and Reliability. Above all, evolving models with sophisticated reasoning abilities thrive on techniques such as Chain-of-thought, few-shot prompting, and more.\n",
        "This hands-on exercise is a starting point to build some understanding about a structured approach to prompt engineering.\n",
        "\n",
        "Brief Explanation of one of the Structural frameworks - the R.I.S.E.N. Framework:</br>\n",
        "- R = ROLE(or persona): Giving a clear role helps the AI model establish the appropriate tone, expertise level, and perspective.\n",
        "- I = INSTRUCTIONS:     Giving a direct command helps the AI model understand specific directions about the task.\n",
        "- S = STEPS:            Giving a breakdown of the task into logical parts helps the AI model organize its thinking and prevents it from missing important information on multi-part requests.\n",
        "- E = EXAMPLES:         Giving an example or end goal helps the AI model format a response as expected.\n",
        "- N = NARROWING:        Giving restrictions on scope, length, or complexity helps the AI model work within given constraints.\n",
        "\n",
        "## Conclusion\n",
        "A structured approach to writing a prompt is more likely to produce the results we expect. It helps AI models reduce ambiguity, scope creep, or even inconsistencies.\n",
        "\n",
        "---"
      ],
      "metadata": {
        "id": "fC-NxhKbRHOp"
      }
    },
    {
      "cell_type": "code",
      "source": [
        "# Hands-on excercise using OpenAI API and GPT4.1"
      ],
      "metadata": {
        "id": "aA98r6bSg5ui"
      },
      "execution_count": 1,
      "outputs": []
    },
    {
      "cell_type": "markdown",
      "source": [
        "### About this excercise:\n",
        "</br>\n",
        "\n",
        "|Category|Description|\n",
        "|:--|:--|\n",
        "|Task |Generate proposals about TDD adoption|\n",
        "|Difficuly Level|Beginner|\n",
        "|Skills|Python|\n",
        "</br>"
      ],
      "metadata": {
        "id": "t5fX29goEYf1"
      }
    },
    {
      "cell_type": "code",
      "source": [
        "#Import display and Markdown from IPython for formatted rendering of generated response\n",
        "from IPython.display import Markdown, display"
      ],
      "metadata": {
        "id": "tOBg13jg816S"
      },
      "execution_count": 2,
      "outputs": []
    },
    {
      "cell_type": "code",
      "source": [
        "def printmd(string):\n",
        "    display(Markdown(string))"
      ],
      "metadata": {
        "id": "g4Ox90irebfo"
      },
      "execution_count": 3,
      "outputs": []
    },
    {
      "cell_type": "markdown",
      "source": [
        "Access setup - This function allows secure access to user-defined secrets stored in the Colab environment, such as API keys."
      ],
      "metadata": {
        "id": "FSAEuTOnSndK"
      }
    },
    {
      "cell_type": "code",
      "source": [
        "from google.colab import userdata"
      ],
      "metadata": {
        "id": "NL9XsB60uMzL"
      },
      "execution_count": 4,
      "outputs": []
    },
    {
      "cell_type": "markdown",
      "source": [
        "Import - interact with the OpenAI API, allows us to make requests to models like GPT-4.1"
      ],
      "metadata": {
        "id": "FM78qcTOSOdK"
      }
    },
    {
      "cell_type": "code",
      "execution_count": 5,
      "metadata": {
        "id": "VXpCYVk5uGDG"
      },
      "outputs": [],
      "source": [
        "from openai import OpenAI"
      ]
    },
    {
      "cell_type": "markdown",
      "source": [
        "Configure Access Key - in this exmpale, for open api. </br>\n",
        "How to configure API access keys in Colab:\n",
        "\n",
        "1. Go to the \"🔑\" icon in the left sidebar (Secrets).\n",
        "2. Click \"Add new secret\".\n",
        "3. For the name, use 'openai_api_key'.\n",
        "4. For the value, paste your OpenAI API key.\n",
        "5. Make sure \"Notebook access\" is enabled for this secret.\n"
      ],
      "metadata": {
        "id": "7YmYmdejTN36"
      }
    },
    {
      "cell_type": "code",
      "source": [
        "client = OpenAI(api_key=userdata.get('openai_api_key'))"
      ],
      "metadata": {
        "id": "v8tFQuE3uNLQ"
      },
      "execution_count": 6,
      "outputs": []
    },
    {
      "cell_type": "markdown",
      "source": [
        "**Attempt 1:** An unstructured/poorly structured prompt for AI model to process"
      ],
      "metadata": {
        "id": "VkRhL7yEwyQT"
      }
    },
    {
      "cell_type": "code",
      "source": [
        "response = client.responses.create(\n",
        "    model='gpt-4.1',\n",
        "    input=\"Write a proposal on TDD best practices adaption for development\"\n",
        ")"
      ],
      "metadata": {
        "id": "tciPs-iYG0ja"
      },
      "execution_count": 7,
      "outputs": []
    },
    {
      "cell_type": "markdown",
      "source": [
        "Print the response generated by AI model for a given prompt"
      ],
      "metadata": {
        "id": "ulb4jh5SxBMu"
      }
    },
    {
      "cell_type": "code",
      "source": [
        "printmd('<div style=\"background-color: lightblue; padding: 10px;\">%s</div>' % response.output_text)"
      ],
      "metadata": {
        "id": "Q1ys6iR7HyLf",
        "colab": {
          "base_uri": "https://localhost:8080/",
          "height": 1000
        },
        "outputId": "e55ac499-396c-4480-a292-dc3849372fb1"
      },
      "execution_count": 8,
      "outputs": [
        {
          "output_type": "display_data",
          "data": {
            "text/plain": [
              "<IPython.core.display.Markdown object>"
            ],
            "text/markdown": "<div style=\"background-color: lightblue; padding: 10px;\">Below is a sample proposal for the **adoption of Test-Driven Development (TDD) best practices** within a software development organization. You can adapt this document for your organization, team, or project.\n\n---\n\n# Proposal: Adoption of TDD Best Practices in Software Development\n\n## Overview\n\nTest-Driven Development (TDD) is a proven software engineering practice that emphasizes writing automated tests before writing production code. The adoption of TDD improves code quality, encourages modular design, and leads to more maintainable code bases. This proposal outlines recommended TDD best practices and presents an adoption plan to integrate them into our development workflow.\n\n---\n\n## Objectives\n\n- **Increase code reliability and maintainability**\n- **Detect defects early in the development cycle**\n- **Encourage clear, modular, and testable code**\n- **Promote a culture of quality and ownership**\n  \n---\n\n## Recommended TDD Best Practices\n\n1. **The Red-Green-Refactor Cycle**\n   - Start with writing a failing test (Red).\n   - Write just enough code to make the test pass (Green).\n   - Refactor the code to optimize structure and readability, keeping all tests passing (Refactor).\n\n2. **Write Small, Focused Tests**\n   - Tests should be granular and verify behavior for a single responsibility or function.\n   - Avoid over-testing or writing large, end-to-end tests in the TDD cycle.\n\n3. **Use Descriptive Test Names**\n   - Name tests to clearly communicate the requirement or behavior under test.\n   - Enhance readability and documentation.\n\n4. **Automate All Tests**\n   - Integrate tests into Continuous Integration (CI) pipelines.\n   - Ensure tests run on all relevant environments.\n\n5. **Mock External Dependencies**\n   - Isolate the code under test by mocking databases, APIs, or third-party services.\n   - Focus tests on the unit’s behavior, not integration.\n\n6. **Maintain Fast Feedback**\n   - Keep tests quick to execute for frequent feedback.\n   - Slow or brittle tests should be flagged and improved.\n\n7. **Refactor Fearlessly**\n   - With comprehensive tests, developers can refactor code confidently, knowing that regressions will be detected early.\n\n---\n\n## Adoption Plan\n\n### 1. Training & Awareness\n- Conduct workshops and hands-on sessions introducing TDD principles and workflow.\n- Share examples and case studies of successful TDD adoption.\n\n### 2. Pilot Project\n- Identify a small-to-medium feature or module for initial TDD adoption.\n- Assign a dedicated team to the pilot, with support from experienced mentors.\n\n### 3. Toolchain Integration\n- Establish standards for unit testing frameworks and mocking libraries (e.g., JUnit, Jest, Moq).\n- Integrate automated test execution into CI/CD pipelines.\n\n### 4. Metrics & Feedback\n- Track test coverage, defect rates, and build stability.\n- Gather developer feedback and adjust guidelines as needed.\n\n### 5. Organization-wide Rollout\n- Gradually expand TDD adoption across teams/projects, adjusting practices based on lessons learned from the pilot.\n- Recognize and reward teams demonstrating TDD excellence.\n\n---\n\n## Success Criteria\n\n- **>90% of new features developed using TDD after 6 months**\n- **Increase in unit test coverage by 20%**\n- **Reduction in post-release defects by 30%**\n- **Higher developer satisfaction as measured in quarterly surveys**\n\n---\n\n## Risks and Mitigation\n\n| Risk | Mitigation |\n|------|-------------|\n| Initial slowdown in development | Emphasize long-term efficiency gains; provide extra resources during transition |\n| Resistance from team members | Offer mentorship and highlight tangible success stories |\n| Inconsistent TDD application | Implement code reviews and pair programming to reinforce practices |\n\n---\n\n## Conclusion\n\nAdopting TDD best practices represents a strategic investment in our code quality, developer confidence, and long-term productivity. With organizational commitment and a structured plan, TDD can become an integral part of our engineering culture.\n\n---\n\n**Prepared by:** [Your Name/Title]\n**Date:** [Insert Date]\n\n---\n\nFeel free to tailor this proposal to focus on your team's specific context, organizational goals, and technology stack.</div>"
          },
          "metadata": {}
        }
      ]
    },
    {
      "cell_type": "markdown",
      "source": [
        "Build information so it can be sent to the AI model as part of prompt."
      ],
      "metadata": {
        "id": "TEHjzjpDxUIE"
      }
    },
    {
      "cell_type": "code",
      "source": [
        "term = \"\"\"\n",
        "Test-Driven Development (TDD) is a software development methodology where tests are written before the actual code implementation. The process follows a simple three-step cycle known as \"Red-Green-Refactor\":\n",
        "The TDD Cycle goes like this:\n",
        "- Red: Write a failing test for the requested functionality before any implementation code exists.\n",
        "- Green: Write the minimal amount of code necessary to make the test pass.\n",
        "- Refactor: Improve the code structure and design while keeping all tests passing.\n",
        "\n",
        "What are benefits of TDD?\n",
        "- TDD encourages better code design by forcing developers to think about requirements upfront.\n",
        "- It provides immediate feedback on code correctness and creates a comprehensive test suite that serves as both documentation and a safety net for future changes.\n",
        "- The approach typically results in more modular, loosely coupled code that's easier to maintain and modify.\n",
        "\n",
        "TDD requires discipline but often leads to higher code quality, fewer bugs in production, and greater confidence when making changes to existing codebases.\n",
        "\"\"\""
      ],
      "metadata": {
        "id": "spSVqxEhRvv_"
      },
      "execution_count": 9,
      "outputs": []
    },
    {
      "cell_type": "markdown",
      "source": [
        "**Attempt 2:** A Structured prompt for AI model to process"
      ],
      "metadata": {
        "id": "ShyOPBVixpUK"
      }
    },
    {
      "cell_type": "code",
      "source": [
        "response = client.responses.create(\n",
        "    model='gpt-4.1',\n",
        "    instructions=\"You are an experienced technology leader who excels in communicating technical, and clear to point proposals to a team of engineers with 2 to 5 years of professional experience. You are always responding with a positive, motivational tone. You are asked to insist on TDD best practices adaption for development.\",\n",
        "    input=\"I'll provide you with some text, and your task is to prepare a proposal that must contain problem definition, objectives, TDD best practices, implementation in SDLC phases, success criteria or rubrics, projected short-term long-term gains and conclusion. Your porposal must be in the form of a paragraph and/or bulleted list. Your proposal must be in text format and should not exceed 1200 words. Text:\\n '''%s'''\" % term\n",
        ")"
      ],
      "metadata": {
        "id": "t_PoApy7uPbY"
      },
      "execution_count": 10,
      "outputs": []
    },
    {
      "cell_type": "markdown",
      "source": [
        "Print the response generated by AI model for a given prompt"
      ],
      "metadata": {
        "id": "6lVSke2kyAk2"
      }
    },
    {
      "cell_type": "code",
      "source": [
        "printmd('<div style=\"background-color: #a8ee90; padding: 10px;\">%s</div>' % response.output_text)"
      ],
      "metadata": {
        "id": "5CnMi0TFud6k",
        "collapsed": true,
        "colab": {
          "base_uri": "https://localhost:8080/",
          "height": 1000
        },
        "outputId": "cad1a0f9-0b88-4714-a775-b03b23a03ced"
      },
      "execution_count": 11,
      "outputs": [
        {
          "output_type": "display_data",
          "data": {
            "text/plain": [
              "<IPython.core.display.Markdown object>"
            ],
            "text/markdown": "<div style=\"background-color: #a8ee90; padding: 10px;\">Absolutely, team! Below is a concise and motivational proposal advocating for Test-Driven Development (TDD) adoption, mapped clearly to our engineering workflow:\n\n---\n\n**Proposal: Adopting Test-Driven Development (TDD) as a Standard Engineering Practice**\n\n**Problem Definition:**\nAs our codebase grows, we face challenges such as increased defect rates, unclear requirements, and higher costs during refactoring. Without a robust test strategy in place, changes introduce risk and slow down our ability to deliver reliable features at pace. Current testing practices often prioritize implementation first, resulting in less coherent tests and fragile code.\n\n**Objectives:**\n- Raise overall code quality and maintainability\n- Reduce the frequency and severity of production bugs\n- Accelerate iteration speed by providing a strong safety net\n- Foster a culture of thoughtful design and clear requirements before implementation\n- Build a comprehensive, living documentation suite for long-term team efficacy\n\n**TDD Best Practices:**\n- Write **each test before implementing functionality**; tests serve as requirements and guides.\n- Follow the “**Red-Green-Refactor**” cycle meticulously:\n  - **Red:** Author a minimal failing test reflecting the new feature or fix.\n  - **Green:** Implement just enough code for the test to pass.\n  - **Refactor:** Clean up and optimize the code and tests without altering behavior.\n- Keep tests **isolated** and **repeatable**, ensuring independence from global state or side effects.\n- Maintain a **fast test suite** to enable rapid feedback and encourage frequent runs.\n- Refactor tests with as much care as production code—**clear, readable test code is crucial**.\n- Treat failures as insights; never skip a failing test.\n- Integrate testing seamlessly into version control and CI/CD workflows.\n\n**Implementation Across SDLC Phases:**\n\n- **Requirements Gathering / Planning:**  \n  - Use TDD to clarify and nail down acceptance criteria for each user story and task. The “what” becomes the first draft of the corresponding test.\n\n- **Design:**  \n  - Before coding, identify units/modules to test based on requirements. Design with testability as a key criterion.\n\n- **Development:**  \n  - Adhere strictly to writing a single, failing test (Red) before implementation. Move to Green by coding the feature minimally, then Refactor both code and test for clarity and scalability without breaking the green state.\n\n- **Code Review:**  \n  - Reviews must confirm that new features and bug fixes are accompanied by relevant, meaningful tests written as per TDD practice.\n\n- **Integration / Release:**  \n  - CI must run a full suite of automated tests. Any failures are resolved before code merges.\n\n- **Maintenance:**  \n  - Any bug fix or refactor starts with a failing test, reapplying the TDD loop, and tests serve as documentation for future maintainers.\n\n**Success Criteria / Rubrics:**\n- **Quantitative:**\n  - >90% of new or changed code is covered by meaningful automated tests.\n  - Reduction in bug reports/production incidents by at least 30% over the next two quarters.\n  - PRs rejected if new features/bug fixes lack companion TDD-authored tests.\n- **Qualitative:**\n  - Code reviews highlight reduced ambiguity in new features and cleaner, more modular code.\n  - Team feedback identifies improved confidence in refactoring and deploying features.\n  - Onboarding new members is faster due to comprehensive test-suite-as-documentation.\n\n**Projected Gains:**\n\n- **Short-term:**\n  - Slightly slower initial feature delivery as we build the TDD habit and test suite.\n  - Rapid decrease in overlooked edge cases and regression bugs.\n  - Increased developer confidence and more predictable sprints.\n  \n- **Long-term:**\n  - Dramatic reduction in time spent hunting bugs or hesitating over code changes.\n  - Enhanced cross-team knowledge as tests clarify code intent and expected behaviors.\n  - Agile adaptation to new requirements with less technical debt and easier refactoring.\n  - Sustainable, scalable, high-quality codebases that empower us to innovate boldly and safely.\n\n**Conclusion:**\nCommitment to TDD is a strategic investment in both engineering excellence and team velocity. By writing tests first, we ensure that the code we produce is precisely what’s needed—no more, no less. We create a living documentation ecosystem, protect ourselves from regressions, and enable bolder, more confident improvements as our projects and team grow. While adapting may require discipline and diligence, the gains—in code quality, personal growth, team satisfaction, and customer trust—will be profound and lasting. Let’s embrace TDD as our default workflow and hold each other accountable to its best practices. Together, we’ll raise the bar for what great engineering looks like.\n\n---\n\nLet’s lead by example and show how TDD isn’t just a discipline—it’s a competitive advantage!</div>"
          },
          "metadata": {}
        }
      ]
    },
    {
      "cell_type": "markdown",
      "source": [
        "---\n",
        "##Congratulations on running this fun exercise!\n",
        "A structured approach improves an AI model's ability to generate better responses. You just proved it yourself!</br>\n",
        "\n",
        "*Fun Fact:* Did you realize we just wrote a few lines of instructions and made AI do all the work for us?</br>\n",
        "*Extra Credit:* Try variations inspired by R.I.S.E.N. and observe different responses </br>\n",
        "*Pro Tip:* swap *an experienced technology leader* for *an experienced Product Owner* or *motivational* to *critical* and see the difference.</br></br>\n",
        "If you are a technology leader, don't stop here, your proposal is ready to get your teams started on TDD adoption, try it!</br>"
      ],
      "metadata": {
        "id": "LTIH5nRkx4b5"
      }
    }
  ]
}