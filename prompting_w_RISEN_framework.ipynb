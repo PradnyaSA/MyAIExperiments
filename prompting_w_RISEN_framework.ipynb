{
  "nbformat": 4,
  "nbformat_minor": 0,
  "metadata": {
    "colab": {
      "provenance": []
    },
    "kernelspec": {
      "name": "python3",
      "display_name": "Python 3"
    },
    "language_info": {
      "name": "python"
    }
  },
  "cells": [
    {
      "cell_type": "markdown",
      "source": [
        "#**README**\n",
        "\n",
        "---\n",
        "\n",
        "## About the notebook\n",
        "This notebook demonstrates a structured approach to prompt engineering using frameworks such as the R.I.S.E.N. framework.\n",
        "It also shows the difference in responses between unstructured/poorly structured and structured prompts.</br>\n",
        "*Pre-requisites:* To run this notebook, you need an access key to the OpenAI API. You can get your API key from [openai](https://platform.openai.com/account/api-keys).\n",
        "\n",
        "## Topic: Prompt Engineering with a structured approach\n",
        "Prompt Engineering is a critical skill for maximizing AI performance, Optimizing Cost and Efficiency at scale, and Improving Consistency and Reliability. Above all, evolving models with sophisticated reasoning abilities thrive on techniques such as Chain-of-thought, few-shot prompting, and more.\n",
        "This hands-on exercise is a starting point to build some understanding about a structured approach to prompt engineering.\n",
        "\n",
        "Brief Explanation of one of the Structural frameworks - the R.I.S.E.N. Framework:</br>\n",
        "- R = ROLE(or persona): Giving a clear role helps the AI model establish the appropriate tone, expertise level, and perspective.\n",
        "- I = INSTRUCTIONS:     Giving a direct command helps the AI model understand specific directions about the task.\n",
        "- S = STEPS:            Giving a breakdown of the task into logical parts helps the AI model organize its thinking and prevents it from missing important information on multi-part requests.\n",
        "- E = EXAMPLES:         Giving an example or end goal helps the AI model format a response as expected.\n",
        "- N = NARROWING:        Giving restrictions on scope, length, or complexity helps the AI model work within given constraints.\n",
        "\n",
        "## Conclusion\n",
        "A structured approach to writing a prompt is more likely to produce the results we expect. It helps AI models reduce ambiguity, scope creep, or even inconsistencies.\n",
        "\n",
        "---"
      ],
      "metadata": {
        "id": "fC-NxhKbRHOp"
      }
    },
    {
      "cell_type": "code",
      "source": [
        "# Hands-on excercise using OpenAI API and GPT4.1"
      ],
      "metadata": {
        "id": "aA98r6bSg5ui"
      },
      "execution_count": 49,
      "outputs": []
    },
    {
      "cell_type": "markdown",
      "source": [
        "### About this excercise:\n",
        "</br>\n",
        "\n",
        "|Category|Description|\n",
        "|:--|:--|\n",
        "|Task |Generate proposals about TDD adoption|\n",
        "|Difficuly Level|Beginner|\n",
        "|Skills|Python|\n",
        "</br>\n",
        "\n",
        "Import display and Markdown from IPython for formatted rendering of generated response"
      ],
      "metadata": {
        "id": "t5fX29goEYf1"
      }
    },
    {
      "cell_type": "code",
      "source": [
        "from IPython.display import Markdown, display"
      ],
      "metadata": {
        "id": "tOBg13jg816S"
      },
      "execution_count": 50,
      "outputs": []
    },
    {
      "cell_type": "code",
      "source": [
        "def printmd(string):\n",
        "    display(Markdown(string))"
      ],
      "metadata": {
        "id": "g4Ox90irebfo"
      },
      "execution_count": 51,
      "outputs": []
    },
    {
      "cell_type": "markdown",
      "source": [
        "Import - interact with the OpenAI API, allows us to make requests to models like GPT-4.1"
      ],
      "metadata": {
        "id": "FM78qcTOSOdK"
      }
    },
    {
      "cell_type": "code",
      "execution_count": 52,
      "metadata": {
        "id": "VXpCYVk5uGDG"
      },
      "outputs": [],
      "source": [
        "from openai import OpenAI"
      ]
    },
    {
      "cell_type": "markdown",
      "source": [
        "Access setup - This function allows secure access to user-defined secrets stored in the Colab environment, such as API keys."
      ],
      "metadata": {
        "id": "FSAEuTOnSndK"
      }
    },
    {
      "cell_type": "code",
      "source": [
        "from google.colab import userdata"
      ],
      "metadata": {
        "id": "NL9XsB60uMzL"
      },
      "execution_count": 53,
      "outputs": []
    },
    {
      "cell_type": "markdown",
      "source": [
        "Configure Access Key - in this exmpale, for open api. </br>\n",
        "How to configure API access keys in Colab:\n",
        "\n",
        "1. Go to the \"🔑\" icon in the left sidebar (Secrets).\n",
        "2. Click \"Add new secret\".\n",
        "3. For the name, use 'openai_api_key'.\n",
        "4. For the value, paste your OpenAI API key.\n",
        "5. Make sure \"Notebook access\" is enabled for this secret.\n"
      ],
      "metadata": {
        "id": "7YmYmdejTN36"
      }
    },
    {
      "cell_type": "code",
      "source": [
        "client = OpenAI(api_key=userdata.get('openai_api_key'))"
      ],
      "metadata": {
        "id": "v8tFQuE3uNLQ"
      },
      "execution_count": 54,
      "outputs": []
    },
    {
      "cell_type": "markdown",
      "source": [
        "**Attempt 1:** An unstructured/poorly structured prompt for AI model to process"
      ],
      "metadata": {
        "id": "VkRhL7yEwyQT"
      }
    },
    {
      "cell_type": "code",
      "source": [
        "response = client.responses.create(\n",
        "    model='gpt-4.1',\n",
        "    input=\"Write a proposal on TDD best practices adaption for development\"\n",
        ")"
      ],
      "metadata": {
        "id": "tciPs-iYG0ja"
      },
      "execution_count": 55,
      "outputs": []
    },
    {
      "cell_type": "markdown",
      "source": [
        "Print the response generated by AI model for a given prompt"
      ],
      "metadata": {
        "id": "ulb4jh5SxBMu"
      }
    },
    {
      "cell_type": "code",
      "source": [
        "printmd('<div style=\"background-color: lightblue; padding: 10px;\">%s</div>' % response.output_text)"
      ],
      "metadata": {
        "id": "Q1ys6iR7HyLf",
        "colab": {
          "base_uri": "https://localhost:8080/",
          "height": 1000
        },
        "outputId": "75aa0fc6-0bd4-4755-b6d8-cd3845d07562"
      },
      "execution_count": 56,
      "outputs": [
        {
          "output_type": "display_data",
          "data": {
            "text/plain": [
              "<IPython.core.display.Markdown object>"
            ],
            "text/markdown": "<div style=\"background-color: lightblue; padding: 10px;\">Certainly! Here’s a structured proposal for adopting **Test-Driven Development (TDD) Best Practices** in a software development environment.\n\n---\n\n## Proposal: Adoption of Test-Driven Development (TDD) Best Practices\n\n### 1. Introduction\n\n**Test-Driven Development (TDD)** is a proven software development methodology which emphasizes writing automated test cases before code implementation. This approach ensures better code quality, early defect detection, and easier maintenance. To maximize TDD’s benefits, adopting industry best practices is essential.\n\n### 2. Objectives\n\n- Enhance code quality and maintainability\n- Foster a test-first culture among developers\n- Accelerate feedback cycles and reduce bug rates\n- Facilitate easier refactoring and scalability\n- Improve collaboration and requirement clarity\n\n### 3. TDD Best Practices\n\n#### a. **Red-Green-Refactor Cycle**\n- **Red**: Write a failing automated test case for a new feature or bug fix.\n- **Green**: Write the minimum amount of code to pass the test.\n- **Refactor**: Restructure the code for better quality, ensuring the test still passes.\n\n#### b. **Write Small, Focused Tests**\n- Each test should verify one scenario only.\n- Ensure atomicity for easy diagnosis and maintenance.\n\n#### c. **Use Descriptive Test Names**\n- Test names should clearly state the intended behavior or requirement.\n\n#### d. **Mock External Dependencies**\n- Use mocks and stubs for external systems (databases, APIs).\n- Focus on unit testing the component logic, not integrations.\n\n#### e. **Maintain Fast Feedback Loops**\n- Tests must run quickly and frequently (e.g., via CI/CD pipelines).\n- Avoid slow integration tests during TDD cycles; reserve for later stages.\n\n#### f. **Keep Test Code Clean**\n- Refactor tests for readability and reuse.\n- Apply the same standards to test code as production code.\n\n#### g. **Test One Concept Per Test Case**\n- Avoid multi-purpose or overly-complex test cases.\n\n#### h. **Use Parameterized Tests When Appropriate**\n- Reduce redundancy by testing multiple input variations efficiently.\n\n#### i. **Review & Refactor Tests Regularly**\n- Treat tests as first-class code, refactoring and reviewing alongside production code.\n\n### 4. Adaption/Implementation Plan\n\n#### a. **Training & Onboarding**\n- Conduct workshops on TDD principles and tools.\n- Provide practice sessions with example projects and code kata exercises.\n\n#### b. **Tooling Support**\n- Standardize on approved testing frameworks (e.g., JUnit, NUnit, Jest, etc.).\n- Integrate testing tools into CI/CD pipelines for immediate feedback.\n\n#### c. **Pilot Project**\n- Select a low-risk project to implement full TDD and document findings and lessons.\n\n#### d. **Coaching & Mentorship**\n- Assign TDD champions to assist teams during the transition.\n- Pair programming and TDD review sessions.\n\n#### e. **Continuous Review**\n- Gather feedback from developer teams.\n- Adjust guidelines and tooling as necessary.\n\n### 5. Measurement of Success\n\n- **Test Coverage**: Track and report on unit test coverage.\n- **Defect Rate**: Monitor post-deployment bug rates.\n- **Cycle Time**: Measure time to implement and deploy new features.\n- **Survey Feedback**: Obtain developer feedback on process improvement.\n\n### 6. Risks & Mitigations\n\n- *Resistance to Change*: Address by showing clear value and providing support.\n- *Learning Curve*: Mitigate through comprehensive training and gradual roll-out.\n- *Slower Initial Velocity*: Emphasize long-term productivity gains.\n\n### 7. Timeline\n\n| Activity                  | Timeline       |\n|---------------------------|---------------|\n| Training                  | Month 1       |\n| Tooling Setup             | Month 1       |\n| Pilot Project             | Months 2-3    |\n| Feedback & Adjustments    | Month 4       |\n| Full Roll-out             | Month 5+      |\n\n### 8. Conclusion\n\nAdopting TDD best practices will significantly elevate our ability to deliver high-quality, reliable, and maintainable software. With leadership buy-in, team commitment, and appropriate support, we can transition smoothly to a TDD-driven development workflow.\n\n---\n\n**Prepared by:**  \n[Your Name]  \n[Date]  \n[Department/Organization]\n\n---\n\nLet me know if you’d like this tailored further or wish to see specific examples for your tech stack or team!</div>"
          },
          "metadata": {}
        }
      ]
    },
    {
      "cell_type": "markdown",
      "source": [
        "Build information so it can be sent to the AI model as part of prompt."
      ],
      "metadata": {
        "id": "TEHjzjpDxUIE"
      }
    },
    {
      "cell_type": "code",
      "source": [
        "term = \"\"\"\n",
        "Test-Driven Development (TDD) is a software development methodology where tests are written before the actual code implementation. The process follows a simple three-step cycle known as \"Red-Green-Refactor\":\n",
        "The TDD Cycle goes like this:\n",
        "- Red: Write a failing test for the requested functionality before any implementation code exists.\n",
        "- Green: Write the minimal amount of code necessary to make the test pass.\n",
        "- Refactor: Improve the code structure and design while keeping all tests passing.\n",
        "\n",
        "What are benefits of TDD?\n",
        "- TDD encourages better code design by forcing developers to think about requirements upfront.\n",
        "- It provides immediate feedback on code correctness and creates a comprehensive test suite that serves as both documentation and a safety net for future changes.\n",
        "- The approach typically results in more modular, loosely coupled code that's easier to maintain and modify.\n",
        "\n",
        "TDD requires discipline but often leads to higher code quality, fewer bugs in production, and greater confidence when making changes to existing codebases.\n",
        "\"\"\""
      ],
      "metadata": {
        "id": "spSVqxEhRvv_"
      },
      "execution_count": 57,
      "outputs": []
    },
    {
      "cell_type": "markdown",
      "source": [
        "**Attempt 2:** A Structured prompt for AI model to process"
      ],
      "metadata": {
        "id": "ShyOPBVixpUK"
      }
    },
    {
      "cell_type": "code",
      "source": [
        "response = client.responses.create(\n",
        "    model='gpt-4.1',\n",
        "    instructions=\"You are an experienced technology leader who excels in communicating technical, and clear to point proposals to a team of engineers with 2 to 5 years of professional experience. You are always responding with a positive, motivational tone. You are asked to insist on TDD best practices adaption for development.\",\n",
        "    input=\"I'll provide you with some text, and your task is to prepare a proposal that must contain problem definition, objectives, TDD best practices, implementation in SDLC phases, success criteria or rubrics, projected short-term long-term gains and conclusion. Your porposal must be in the form of a paragraph and/or bulleted list. Your proposal must be in text format and should not exceed 1200 words. Text:\\n '''%s'''\" % term\n",
        ")"
      ],
      "metadata": {
        "id": "t_PoApy7uPbY"
      },
      "execution_count": 58,
      "outputs": []
    },
    {
      "cell_type": "markdown",
      "source": [
        "Print the response generated by AI model for a given prompt"
      ],
      "metadata": {
        "id": "6lVSke2kyAk2"
      }
    },
    {
      "cell_type": "code",
      "source": [
        "printmd('<div style=\"background-color: #a8ee90; padding: 10px;\">%s</div>' % response.output_text)"
      ],
      "metadata": {
        "id": "5CnMi0TFud6k",
        "collapsed": true,
        "colab": {
          "base_uri": "https://localhost:8080/",
          "height": 1000
        },
        "outputId": "090eaac1-d5f1-4e21-c74e-31e562ac3e84"
      },
      "execution_count": 59,
      "outputs": [
        {
          "output_type": "display_data",
          "data": {
            "text/plain": [
              "<IPython.core.display.Markdown object>"
            ],
            "text/markdown": "<div style=\"background-color: #a8ee90; padding: 10px;\">Certainly! Here is a clear, motivational, and technically sound proposal for TDD adoption, incorporating the elements you specified:\n\n---\n\n**Proposal: Adopting Test-Driven Development (TDD) Best Practices**\n\n**Problem Definition**\nCurrently, our software development process faces challenges such as late detection of bugs, unclear specifications, difficulty in modifying existing code, and a lack of confidence during refactoring or adding new features. These issues often slow down our delivery cycles, increase maintenance overhead, and cause uncertainty when adapting to changing requirements.\n\n**Objectives**\n- To systematically improve code quality and reliability.\n- To enhance our ability to respond to requirement changes with confidence.\n- To reduce the incidence and severity of bugs in production.\n- To facilitate knowledge transfer and onboarding through well-documented code.\n- To foster a culture of continuous improvement and craftsmanship across the engineering team.\n\n**TDD Best Practices**\n- **Write Tests First (Red):** Always begin by writing a clear, failing test that captures the requirement or expected behavior. This helps clarify your intent before implementation.\n- **Minimal Implementation (Green):** Only write enough code to get the test passing, avoiding over-engineering. This focuses our efforts on immediate requirements.\n- **Refactor Relentlessly:** Continuously improve the codebase’s structure, readability, and maintainability after ensuring all tests pass. This includes removing duplication, renaming variables for clarity, and ensuring logical test organization.\n- **Isolate Tests:** Write tests that are independent, fast, and reliable, avoiding dependencies on external states or systems.\n- **Maintain Test Coverage:** Each new feature or bug fix should increase or maintain existing test coverage, preventing future regressions.\n- **Frequent Commits:** Commit often, incorporating both passing tests and code, enabling easier troubleshooting and collaboration.\n- **Quality over Quantity:** Prioritize meaningful, expressive tests that clearly describe expected behaviors over having a large number of trivial tests.\n\n**Implementation Across SDLC Phases**\n- **Requirements/Design:** Collaborate with product and design teams to derive testable acceptance criteria from user stories.\n- **Development:** Adopt the Red-Green-Refactor cycle at the individual and peer-programming level, integrating it into daily workflows.\n- **Code Review:** Include test adequacy and adherence to TDD practices as part of code review checklists; encourage constructive feedback on test clarity and coverage.\n- **Continuous Integration:** Ensure all pull requests build and run all unit/integration tests before merge; automatically block merges that reduce coverage or introduce failing tests.\n- **Release:** Release with confidence by relying on a trusted suite of automated tests; use regression tests from TDD cycles to guard against unintentionally breaking existing features.\n- **Maintenance:** Use TDD for bug fixes and enhancements, writing a failing test that reproduces the bug before applying the fix, ensuring issues can't recur unnoticed.\n\n**Success Criteria / Rubrics**\n- **Quantitative Metrics:**\n  - Maintain or improve code coverage percentage with each iteration.\n  - Reduction in production bug reports post-release.\n  - Decrease in average fix time for regressions and bugs.\n- **Qualitative Metrics:**\n  - Code review feedback highlights improved clarity and maintainability.\n  - Developers report increased confidence when making changes.\n  - Acceptance of code changes is faster and with fewer review cycles owing to self-documenting tests.\n- **Process Adoption:**\n  - All new features and bug fixes follow the TDD process.\n  - TDD status to be discussed in sprint retrospectives and highlighted in project documentation.\n\n**Projected Gains**\n*Short-Term Gains (0–3 months):*\n- Faster feedback loops in development and code review processes.\n- Early bug detection, leading to higher morale and reduced rework.\n- Creation of a growing safety net of reliable tests that boost developer confidence.\n\n*Long-Term Gains (3+ months):*\n- Significantly reduced production incidents and easier, safer refactoring over releases.\n- Codified best practices resulting in cleaner, more modular, and maintainable codebases.\n- Lower onboarding time for new team members, thanks to comprehensive tests that double as living documentation.\n- A culture of ownership, pride, and continuous improvement among all engineers.\n\n**Conclusion**\nBy embracing TDD as our core development practice, we not only commit to building higher-quality software but also to cultivating a shared discipline that elevates our team's collective effectiveness. TDD isn't just a way to catch bugs—it’s a mindset that sharpens our understanding of requirements, improves maintainability, and empowers us to innovate confidently. Let's seize this opportunity to lead by example, making TDD an integral part of our engineering DNA. Together, we can deliver solutions that are robust, adaptable, and well-documented, driving both individual and organizational growth.\n\n--- \n\nLet's move forward as champions of quality and craftsmanship! If you have questions or want to dive deeper into any phase or practice of TDD, I am here to support and guide us every step of the way.</div>"
          },
          "metadata": {}
        }
      ]
    },
    {
      "cell_type": "markdown",
      "source": [
        "---\n",
        "##Congratulations on running this fun exercise!\n",
        "A structured approach improves an AI model's ability to generate better responses. You just proved it yourself!</br>\n",
        "\n",
        "*Fun Fact:* If you are a technology leader, don't stop here, your proposal is ready to get your teams started on TDD adoption!</br>\n",
        "*Extra Credit:* Try variations inspired by R.I.S.E.N. and observe different responses </br>\n",
        "*Pro Tip:* swap *an experienced technology leader* for *an experienced Product Owner* or *motivational* to *critical* and see the difference.</br></br>\n",
        "Have Fun!</br>"
      ],
      "metadata": {
        "id": "LTIH5nRkx4b5"
      }
    }
  ]
}