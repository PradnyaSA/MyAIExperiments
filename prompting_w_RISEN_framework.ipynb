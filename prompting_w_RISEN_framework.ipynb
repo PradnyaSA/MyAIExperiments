{
  "nbformat": 4,
  "nbformat_minor": 0,
  "metadata": {
    "colab": {
      "provenance": []
    },
    "kernelspec": {
      "name": "python3",
      "display_name": "Python 3"
    },
    "language_info": {
      "name": "python"
    }
  },
  "cells": [
    {
      "cell_type": "markdown",
      "source": [
        "#**README**\n",
        "\n",
        "---\n",
        "\n",
        "## About the notebook\n",
        "This notebook demonstrates a structured approach to prompt engineering using frameworks such as the R.I.S.E.N. framework.\n",
        "It also shows the difference in responses between unstructured/poorly structured and structured prompts.</br>\n",
        "*Pre-requisites:* To run this notebook, you need an access key to the OpenAI API. You can get your API key from [openai](https://platform.openai.com/account/api-keys).\n",
        "\n",
        "## Topic: Prompt Engineering with a structured approach\n",
        "Prompt Engineering is a critical skill for maximizing AI performance, Optimizing Cost and Efficiency at scale, and Improving Consistency and Reliability. Above all, evolving models with sophisticated reasoning abilities thrive on techniques such as Chain-of-thought, few-shot prompting, and more.\n",
        "This hands-on exercise is a starting point to build some understanding about a structured approach to prompt engineering.\n",
        "\n",
        "Brief Explanation of one of the Structural frameworks - the R.I.S.E.N. Framework:</br>\n",
        "- R = ROLE(or persona): Giving a clear role helps the AI model establish the appropriate tone, expertise level, and perspective.\n",
        "- I = INSTRUCTIONS:     Giving a direct command helps the AI model understand specific directions about the task.\n",
        "- S = STEPS:            Giving a breakdown of the task into logical parts helps the AI model organize its thinking and prevents it from missing important information on multi-part requests.\n",
        "- E = EXAMPLES:         Giving an example or end goal helps the AI model format a response as expected.\n",
        "- N = NARROWING:        Giving restrictions on scope, length, or complexity helps the AI model work within given constraints.\n",
        "\n",
        "## Conclusion\n",
        "A structured approach to writing a prompt is more likely to produce the results we expect. It helps AI models reduce ambiguity, scope creep, or even inconsistencies.\n",
        "\n",
        "---"
      ],
      "metadata": {
        "id": "fC-NxhKbRHOp"
      }
    },
    {
      "cell_type": "code",
      "source": [
        "# Hands-on excercise using OpenAI API and GPT4.1"
      ],
      "metadata": {
        "id": "aA98r6bSg5ui"
      },
      "execution_count": 12,
      "outputs": []
    },
    {
      "cell_type": "markdown",
      "source": [
        "Import display and Markdown from IPython for formatted rendering of generated response"
      ],
      "metadata": {
        "id": "t5fX29goEYf1"
      }
    },
    {
      "cell_type": "code",
      "source": [
        "from IPython.display import Markdown, display"
      ],
      "metadata": {
        "id": "tOBg13jg816S"
      },
      "execution_count": 13,
      "outputs": []
    },
    {
      "cell_type": "code",
      "source": [
        "problem_definition_md = \"\"\"\n",
        "### About this excercise:\n",
        "|Category|Description|\n",
        "|:--|:--|\n",
        "|Problem Definition |Generate proposals about topics like TDD adoption|\n",
        "|Difficuly Level|Beginner|\n",
        "|Skills|Python|\n",
        "\"\"\"\n",
        "def printmd(string):\n",
        "    display(Markdown(string))\n",
        "printmd(problem_definition_md)"
      ],
      "metadata": {
        "colab": {
          "base_uri": "https://localhost:8080/",
          "height": 184
        },
        "id": "g4Ox90irebfo",
        "outputId": "79687597-66e4-4bde-c096-296e185015c5"
      },
      "execution_count": 14,
      "outputs": [
        {
          "output_type": "display_data",
          "data": {
            "text/plain": [
              "<IPython.core.display.Markdown object>"
            ],
            "text/markdown": "\n### About this excercise:\n|Category|Description|\n|:--|:--|\n|Problem Definition |Generate proposals about topics like TDD adoption| \n|Difficuly Level|Beginner|\n|Skills|Python|\n"
          },
          "metadata": {}
        }
      ]
    },
    {
      "cell_type": "markdown",
      "source": [
        "Import - interact with the OpenAI API, allows us to make requests to models like GPT-4.1"
      ],
      "metadata": {
        "id": "FM78qcTOSOdK"
      }
    },
    {
      "cell_type": "code",
      "execution_count": 15,
      "metadata": {
        "id": "VXpCYVk5uGDG"
      },
      "outputs": [],
      "source": [
        "from openai import OpenAI"
      ]
    },
    {
      "cell_type": "markdown",
      "source": [
        "Access setup - This function allows secure access to user-defined secrets stored in the Colab environment, such as API keys."
      ],
      "metadata": {
        "id": "FSAEuTOnSndK"
      }
    },
    {
      "cell_type": "code",
      "source": [
        "from google.colab import userdata"
      ],
      "metadata": {
        "id": "NL9XsB60uMzL"
      },
      "execution_count": 16,
      "outputs": []
    },
    {
      "cell_type": "markdown",
      "source": [
        "Configure Access Key - in this exmpale, for open api. </br>\n",
        "How to configure API access keys in Colab:\n",
        "\n",
        "1. Go to the \"🔑\" icon in the left sidebar (Secrets).\n",
        "2. Click \"Add new secret\".\n",
        "3. For the name, use 'openai_api_key'.\n",
        "4. For the value, paste your OpenAI API key.\n",
        "5. Make sure \"Notebook access\" is enabled for this secret.\n"
      ],
      "metadata": {
        "id": "7YmYmdejTN36"
      }
    },
    {
      "cell_type": "code",
      "source": [
        "client = OpenAI(api_key=userdata.get('openai_api_key'))"
      ],
      "metadata": {
        "id": "v8tFQuE3uNLQ"
      },
      "execution_count": 17,
      "outputs": []
    },
    {
      "cell_type": "markdown",
      "source": [
        "**Attempt 1:** An unstructured/poorly structured prompt for AI model to process"
      ],
      "metadata": {
        "id": "VkRhL7yEwyQT"
      }
    },
    {
      "cell_type": "code",
      "source": [
        "response = client.responses.create(\n",
        "    model='gpt-4.1',\n",
        "    input=\"Write a proposal on TDD best practices adaption for development\"\n",
        ")"
      ],
      "metadata": {
        "id": "tciPs-iYG0ja"
      },
      "execution_count": 18,
      "outputs": []
    },
    {
      "cell_type": "markdown",
      "source": [
        "Print the response generated by AI model for a given prompt"
      ],
      "metadata": {
        "id": "ulb4jh5SxBMu"
      }
    },
    {
      "cell_type": "code",
      "source": [
        "printmd(response.output_text)"
      ],
      "metadata": {
        "colab": {
          "base_uri": "https://localhost:8080/",
          "height": 1000
        },
        "id": "Q1ys6iR7HyLf",
        "outputId": "90f68c29-c6f4-41e6-e9f4-7775bdeec9a0"
      },
      "execution_count": 19,
      "outputs": [
        {
          "output_type": "display_data",
          "data": {
            "text/plain": [
              "<IPython.core.display.Markdown object>"
            ],
            "text/markdown": "Certainly! Here is a sample proposal for the **adoption of Test-Driven Development (TDD) best practices** for a software development team or organization.\n\n---\n\n# Proposal: Adoption of TDD Best Practices for Software Development\n\n## Introduction\n\nAs software systems grow more complex, ensuring high quality and maintainability becomes increasingly critical. Test-Driven Development (TDD) is a proven methodology that enhances code quality, fosters maintainable software, and reduces defect rates. This proposal advocates for the systematic adoption of TDD best practices in our software development processes.\n\n---\n\n## Objectives\n\n- Improve software quality and reliability.\n- Reduce bug rates and maintenance costs.\n- Facilitate a culture of clean, testable code.\n- Enable safer refactoring and rapid iteration.\n\n---\n\n## Recommended TDD Best Practices\n\n1. **Write Tests First**\n   - Implement the \"red-green-refactor\" cycle: write a failing test, write minimal code to pass, refactor.\n2. **Test Granularity**\n   - Focus on small, isolated units of functionality per test.\n   - Avoid writing large, end-to-end tests in the TDD loop.\n3. **Clear Test Naming**\n   - Write descriptive names for tests to convey intent and behavior.\n4. **One Assertion Per Test (when practical)**\n   - Ensures each test's failure points to a clear cause.\n5. **Use of Mocks and Stubs**\n   - Mock dependencies and external systems to keep tests unitary and fast.\n6. **Keep Tests Fast and Deterministic**\n   - Tests should run quickly and reliably in any environment.\n7. **Refactor Both Code and Tests**\n   - Refactor test code alongside production code to maintain clarity and reusability.\n8. **Continuous Feedback and Integration**\n   - Integrate TDD into CI/CD systems to ensure ongoing enforcement.\n9. **Educate and Mentor**\n   - Provide training and mentorship to help developers master TDD concepts and patterns.\n10. **Code Coverage as Guide, Not Goal**\n    - Aim for meaningful coverage, not 100% as an absolute metric.\n\n---\n\n## Implementation Plan\n\n1. **Kickoff Workshop**\n   - Conduct a TDD best practices workshop with hands-on exercises.\n2. **Pilot Project**\n   - Select a pilot project to adopt full TDD practices and evaluate outcomes.\n3. **Tooling Setup**\n   - Ensure chosen programming languages and frameworks support automated testing (e.g., Jest, JUnit, PyTest).\n   - Integrate with CI pipelines.\n4. **Mentorship and Code Reviews**\n   - Assign experienced TDD practitioners as mentors.\n   - Update code review checklist to include TDD adherence.\n5. **Metrics and Feedback**\n   - Monitor test coverage, failure rates, and developer feedback.\n   - Adjust processes based on retrospective learnings.\n6. **Organization-wide Rollout**\n   - Extend TDD best practices to all projects incrementally.\n   - Continue ongoing training and knowledge sharing.\n\n---\n\n## Expected Benefits\n\n- **Higher Code Quality:** Early detection of defects; code designed for testability.\n- **Faster Delivery:** Rapid iterations with confidence due to comprehensive test suites.\n- **Easier Maintenance:** Clear, well-tested code base improves onboarding and bug fixing.\n- **Robust Documentation:** Tests double as actionable code documentation.\n\n---\n\n## Conclusion\n\nAdopting TDD best practices is a forward-looking move towards agile, high-quality software delivery. With structured training, dedicated support, and incremental adoption, we can ensure a smooth transition and lasting positive impact on our engineering outcomes.\n\n---\n\n**Prepared by:**  \n[Your Name]  \n[Your Position]  \n[Date]\n\n---\n\n*Please customize to your organization’s context, processes, and project specifics as necessary.*"
          },
          "metadata": {}
        }
      ]
    },
    {
      "cell_type": "markdown",
      "source": [
        "Build information so it can be sent to the AI model as part of prompt."
      ],
      "metadata": {
        "id": "TEHjzjpDxUIE"
      }
    },
    {
      "cell_type": "code",
      "source": [
        "term = \"\"\"\n",
        "Test-Driven Development (TDD) is a software development methodology where tests are written before the actual code implementation. The process follows a simple three-step cycle known as \"Red-Green-Refactor\":\n",
        "The TDD Cycle goes like this:\n",
        "- Red: Write a failing test for the requested functionality before any implementation code exists.\n",
        "- Green: Write the minimal amount of code necessary to make the test pass.\n",
        "- Refactor: Improve the code structure and design while keeping all tests passing.\n",
        "\n",
        "What are benefits of TDD?\n",
        "- TDD encourages better code design by forcing developers to think about requirements upfront.\n",
        "- It provides immediate feedback on code correctness and creates a comprehensive test suite that serves as both documentation and a safety net for future changes.\n",
        "- The approach typically results in more modular, loosely coupled code that's easier to maintain and modify.\n",
        "\n",
        "TDD requires discipline but often leads to higher code quality, fewer bugs in production, and greater confidence when making changes to existing codebases.\n",
        "\"\"\""
      ],
      "metadata": {
        "id": "spSVqxEhRvv_"
      },
      "execution_count": 20,
      "outputs": []
    },
    {
      "cell_type": "markdown",
      "source": [
        "**Attempt 2:** A Structured prompt for AI model to process"
      ],
      "metadata": {
        "id": "ShyOPBVixpUK"
      }
    },
    {
      "cell_type": "code",
      "source": [
        "response = client.responses.create(\n",
        "    model='gpt-4.1',\n",
        "    instructions=\"You are an experienced technology leader who excels in communicating technical, and clear to point proposals to a team of engineers with 2 to 5 years of professional experience. You are always responding with a positive, motivational tone. You are asked to insist on TDD best practices adaption for development.\",\n",
        "    input=\"I'll provide you with some text, and your task is to prepare a proposal that must contain problem definition, objectives, TDD best practices, implementation in SDLC phases, success criteria or rubrics, projected short-term long-term gains and conclusion. Your porposal must be in the form of a paragraph and/or bulleted list. Your proposal must be in text format and should not exceed 1200 words. Text:\\n '''%s'''\" % term\n",
        ")"
      ],
      "metadata": {
        "id": "t_PoApy7uPbY"
      },
      "execution_count": 21,
      "outputs": []
    },
    {
      "cell_type": "markdown",
      "source": [
        "Print the response generated by AI model for a given prompt"
      ],
      "metadata": {
        "id": "6lVSke2kyAk2"
      }
    },
    {
      "cell_type": "code",
      "source": [
        "printmd(response.output_text)"
      ],
      "metadata": {
        "colab": {
          "base_uri": "https://localhost:8080/",
          "height": 1000
        },
        "id": "5CnMi0TFud6k",
        "outputId": "bb5892c7-8648-40ea-d430-a932b899814f",
        "collapsed": true
      },
      "execution_count": 22,
      "outputs": [
        {
          "output_type": "display_data",
          "data": {
            "text/plain": [
              "<IPython.core.display.Markdown object>"
            ],
            "text/markdown": "Certainly! Here is a well-structured proposal for enforcing TDD best practices, designed for our engineering team:\n\n---\n\n**Proposal: Systematic Adoption of Test-Driven Development (TDD) Practices**\n\n**Problem Definition:**  \nOur current development workflow sometimes exhibits issues such as unclear requirements, codebases that are hard to maintain, delayed feedback on bugs, and challenges in scaling up quality with increased feature delivery. The absence of a test-first mentality leads to ad-hoc testing, limited automated test coverage, and reactive—not proactive—bug fixing. This presents business risks, including higher production defects, more challenging onboarding for new engineers, and increased time spent resolving regressions.\n\n**Objectives:**  \n- Enforce a disciplined, systematic, and proactive approach to software correctness.\n- Reduce the frequency and severity of bugs making their way into production.\n- Foster a strong culture of code quality, clarity, and maintainability.\n- Empower engineers to confidently refactor and enhance existing systems.\n- Provide living, executable documentation via comprehensive automated tests.\n\n**TDD Best Practices to Adopt:**  \n- **Short Feedback Cycles:** Always start with a failing test to validate new requirements (Red step).  \n- **Minimal Implementation:** Write just enough code to pass the test (Green step), avoiding over-engineering.  \n- **Relentless Refactoring:** Continuously refactor, both for code and tests, to improve readability, maintainability, and design (Refactor step).  \n- **Granularity:** Write small, isolated tests for focused behaviors instead of generalized or broad tests.  \n- **Repeatability:** Maintain fast, deterministic tests that are part of our CI/CD pipelines.  \n- **Clarity and Naming:** Structure tests so that their intention and coverage are immediately obvious to all team members.  \n- **Coverage and Documentation:** Prioritize test coverage for critical logic, edge cases, and regressions, with tests doubling as both safety nets and documentation.  \n- **Peer Reviews:** Incorporate review steps to ensure test-first discipline and thorough test quality.\n\n**TDD Implementation Across SDLC Phases:**  \n- **Requirements & Planning:**  \n  - User stories must specify acceptance criteria to guide test writing.\n  - Developers break down features into testable units.\n- **Design:**  \n  - Design discussions revolve around expected behaviors captured as test cases.\n  - Use TDD to drive interface and module design: write tests, then APIs.\n- **Development:**  \n  - For every small feature/bug fix, begin with test-writing before any implementation.\n  - Enforce the Red-Green-Refactor cycle:\n    - *Red*: Write a failing test to describe a new feature or bug.\n    - *Green*: Write just enough code for the test to pass.\n    - *Refactor*: Clean and improve both production code and tests while keeping all tests green.\n- **Review:**  \n  - Code review checklists to include verification that appropriate tests exist and validate all acceptance criteria.\n- **Merge/Deployment:**  \n  - CI/CD pipelines must block merges unless all tests pass (ensuring a green build).\n  - Measure test coverage and automate alerts for regressions or decreased coverage.\n- **Maintenance:**  \n  - Every regression or bug fix requires a test case that reproduces the issue before fixing.\n  - Refactor tests alongside code evolution to maintain alignment and clarity.\n\n**Success Criteria (Rubrics):**  \n- **Quantitative:**  \n  - Achieving and sustaining >90% code coverage (with emphasis on business-critical paths).\n  - Reduction in reported post-release bugs by at least 50% over six months.\n  - Decrease in average bug resolution time due to faster root cause analysis via tests.\n  - At least one test added or updated in every feature/bugfix pull request.\n- **Qualitative:**  \n  - Code reviews positively assess test clarity and alignment with requirements.\n  - Engineers report increased confidence in refactoring and shipping code.\n  - Onboarding engineers are able to quickly grasp module behaviors via test suites.\n  - Documentation is routinely cited as effective due to living tests.\n\n**Projected Gains:**  \n- **Short-Term:**  \n  - Slight increase in upfront development time offset by fewer downstream bugs and rework.\n  - Immediate improvement in code reliability and developer confidence.\n  - Early detection of requirements ambiguities and edge cases before coding effort is spent.\n- **Long-Term:**  \n  - Significantly reduced production incidents and faster response to changes.\n  - Strong, modular architectures emerge, accelerating future feature development.\n  - Lower onboarding costs for new team members due to clear, executable documentation.\n  - Competitive advantage owing to robust, scalable, and maintainable codebases.\n\n**Conclusion:**  \nEmbracing TDD as a core engineering best practice is more than just about writing tests first—it's about changing our mindset to prioritize quality, clarity, and maintainability from the start. By methodically following the Red-Green-Refactor cycle and integrating TDD across all phases of our SDLC, we can deliver more reliable software, faster, and with greater confidence. The discipline required in TDD pays significant dividends: fewer bugs, smoother releases, and ultimately, happier users and developers alike.  \nLet’s lead our engineering culture forward together by championing TDD!\n\n---"
          },
          "metadata": {}
        }
      ]
    },
    {
      "cell_type": "markdown",
      "source": [
        "---\n",
        "##Hope that was a fun exercise!\n",
        "A structured approach improves an AI model's ability to generate better responses.</br>\n",
        "\n",
        "*Extra Credit:* Try variations inspired by R.I.S.E.N. and observe different responses </br>\n",
        "*Fun exercise:* swap *an experienced technology leader* for *an experienced Product Owner* or *motivational* to *critical*</br></br>\n",
        "Have Fun!</br>"
      ],
      "metadata": {
        "id": "LTIH5nRkx4b5"
      }
    }
  ]
}