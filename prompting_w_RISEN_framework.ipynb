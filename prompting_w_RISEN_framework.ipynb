{
  "nbformat": 4,
  "nbformat_minor": 0,
  "metadata": {
    "colab": {
      "provenance": []
    },
    "kernelspec": {
      "name": "python3",
      "display_name": "Python 3"
    },
    "language_info": {
      "name": "python"
    }
  },
  "cells": [
    {
      "cell_type": "markdown",
      "source": [
        "#**README**\n",
        "\n",
        "---\n",
        "\n",
        "## About the notebook\n",
        "This notebook demonstrates a structured approach to prompt engineering using frameworks such as the R.I.S.E.N. framework.\n",
        "It also shows the difference in responses between unstructured/poorly structured and structured prompts.</br>\n",
        "*Pre-requisites:* To run this notebook, you need an access key to the OpenAI API. You can get your API key from [openai](https://platform.openai.com/account/api-keys).\n",
        "\n",
        "## Topic: Prompt Engineering with a structured approach\n",
        "Prompt Engineering is a critical skill for maximizing AI performance, Optimizing Cost and Efficiency at scale, and Improving Consistency and Reliability. Above all, evolving models with sophisticated reasoning abilities thrive on techniques such as Chain-of-thought, few-shot prompting, and more.\n",
        "This hands-on exercise is a starting point to build some understanding about a structured approach to prompt engineering.\n",
        "\n",
        "Brief Explanation of one of the Structural frameworks - the R.I.S.E.N. Framework:</br>\n",
        "- R = ROLE(or persona): Giving a clear role helps the AI model establish the appropriate tone, expertise level, and perspective.\n",
        "- I = INSTRUCTIONS:     Giving a direct command helps the AI model understand specific directions about the task.\n",
        "- S = STEPS:            Giving a breakdown of the task into logical parts helps the AI model organize its thinking and prevents it from missing important information on multi-part requests.\n",
        "- E = EXAMPLES:         Giving an example or end goal helps the AI model format a response as expected.\n",
        "- N = NARROWING:        Giving restrictions on scope, length, or complexity helps the AI model work within given constraints.\n",
        "\n",
        "## Conclusion\n",
        "A structured approach to writing a prompt is more likely to produce the results we expect. It helps AI models reduce ambiguity, scope creep, or even inconsistencies.\n",
        "\n",
        "---"
      ],
      "metadata": {
        "id": "fC-NxhKbRHOp"
      }
    },
    {
      "cell_type": "code",
      "source": [
        "# Hands-on excercise using OpenAI API and GPT4.1"
      ],
      "metadata": {
        "id": "aA98r6bSg5ui"
      },
      "execution_count": 23,
      "outputs": []
    },
    {
      "cell_type": "markdown",
      "source": [
        "Import display and Markdown from IPython for formatted rendering of generated response"
      ],
      "metadata": {
        "id": "t5fX29goEYf1"
      }
    },
    {
      "cell_type": "code",
      "source": [
        "from IPython.display import Markdown, display"
      ],
      "metadata": {
        "id": "tOBg13jg816S"
      },
      "execution_count": 24,
      "outputs": []
    },
    {
      "cell_type": "code",
      "source": [
        "problem_definition_md = \"\"\"\n",
        "### About this excercise:\n",
        "|Category|Description|\n",
        "|:--|:--|\n",
        "|Problem Definition |Generate proposals about topics like TDD adoption|\n",
        "|Difficuly Level|Beginner|\n",
        "|Skills|Python|\n",
        "\"\"\"\n",
        "def printmd(string):\n",
        "    display(Markdown(string))\n",
        "printmd(problem_definition_md)"
      ],
      "metadata": {
        "colab": {
          "base_uri": "https://localhost:8080/",
          "height": 184
        },
        "id": "g4Ox90irebfo",
        "outputId": "c6d6f2dd-99d7-4e04-e777-d71e92b88dab"
      },
      "execution_count": 25,
      "outputs": [
        {
          "output_type": "display_data",
          "data": {
            "text/plain": [
              "<IPython.core.display.Markdown object>"
            ],
            "text/markdown": "\n### About this excercise:\n|Category|Description|\n|:--|:--|\n|Problem Definition |Generate proposals about topics like TDD adoption| \n|Difficuly Level|Beginner|\n|Skills|Python|\n"
          },
          "metadata": {}
        }
      ]
    },
    {
      "cell_type": "markdown",
      "source": [
        "Import - interact with the OpenAI API, allows us to make requests to models like GPT-4.1"
      ],
      "metadata": {
        "id": "FM78qcTOSOdK"
      }
    },
    {
      "cell_type": "code",
      "execution_count": 26,
      "metadata": {
        "id": "VXpCYVk5uGDG"
      },
      "outputs": [],
      "source": [
        "from openai import OpenAI"
      ]
    },
    {
      "cell_type": "markdown",
      "source": [
        "Access setup - This function allows secure access to user-defined secrets stored in the Colab environment, such as API keys."
      ],
      "metadata": {
        "id": "FSAEuTOnSndK"
      }
    },
    {
      "cell_type": "code",
      "source": [
        "from google.colab import userdata"
      ],
      "metadata": {
        "id": "NL9XsB60uMzL"
      },
      "execution_count": 27,
      "outputs": []
    },
    {
      "cell_type": "markdown",
      "source": [
        "Configure Access Key - in this exmpale, for open api. </br>\n",
        "How to configure API access keys in Colab:\n",
        "\n",
        "1. Go to the \"🔑\" icon in the left sidebar (Secrets).\n",
        "2. Click \"Add new secret\".\n",
        "3. For the name, use 'openai_api_key'.\n",
        "4. For the value, paste your OpenAI API key.\n",
        "5. Make sure \"Notebook access\" is enabled for this secret.\n"
      ],
      "metadata": {
        "id": "7YmYmdejTN36"
      }
    },
    {
      "cell_type": "code",
      "source": [
        "client = OpenAI(api_key=userdata.get('openai_api_key'))"
      ],
      "metadata": {
        "id": "v8tFQuE3uNLQ"
      },
      "execution_count": 28,
      "outputs": []
    },
    {
      "cell_type": "markdown",
      "source": [
        "**Attempt 1:** An unstructured/poorly structured prompt for AI model to process"
      ],
      "metadata": {
        "id": "VkRhL7yEwyQT"
      }
    },
    {
      "cell_type": "code",
      "source": [
        "response = client.responses.create(\n",
        "    model='gpt-4.1',\n",
        "    input=\"Write a proposal on TDD best practices adaption for development\"\n",
        ")"
      ],
      "metadata": {
        "id": "tciPs-iYG0ja"
      },
      "execution_count": 29,
      "outputs": []
    },
    {
      "cell_type": "markdown",
      "source": [
        "Print the response generated by AI model for a given prompt"
      ],
      "metadata": {
        "id": "ulb4jh5SxBMu"
      }
    },
    {
      "cell_type": "code",
      "source": [
        "printmd(response.output_text)"
      ],
      "metadata": {
        "colab": {
          "base_uri": "https://localhost:8080/",
          "height": 1000
        },
        "id": "Q1ys6iR7HyLf",
        "outputId": "14361875-8f4f-4a89-d45b-e431c20c6403"
      },
      "execution_count": 30,
      "outputs": [
        {
          "output_type": "display_data",
          "data": {
            "text/plain": [
              "<IPython.core.display.Markdown object>"
            ],
            "text/markdown": "Certainly! Here’s a **proposal template** for the adoption of Test-Driven Development (TDD) Best Practices within a software development team or organization. Feel free to tailor it to match your context, company style, or specific goals:\n\n---\n\n# Proposal: Adopting Test-Driven Development (TDD) Best Practices\n\n## Introduction\n\nIn the pursuit of delivering robust, high-quality, and maintainable software, our development team proposes to formally adopt **Test-Driven Development (TDD) Best Practices**. This initiative aims to enhance our code quality, reduce defects, streamline maintenance, and foster a culture of continuous improvement.\n\n## Objectives\n\n- **Improve Code Quality:** By writing tests before implementation, we enforce requirements early and reduce bugs.\n- **Increase Confidence in Code Changes:** Comprehensive tests create a safety net for future refactoring and feature additions.\n- **Encourage Modular Design:** TDD encourages smaller, testable components and better software architecture.\n- **Foster Collaboration:** Clear, testable requirements help bridge communication between developers, testers, and stakeholders.\n\n## What is Test-Driven Development (TDD)?\n\nTDD is a software development process that emphasizes writing automated unit tests before writing production code. The standard workflow is:\n1. **Red:** Write a failing test that defines a desired enhancement or function.\n2. **Green:** Write the minimum amount of code to pass the test.\n3. **Refactor:** Improve the code while keeping tests green.\n\n## TDD Best Practices to Adopt\n\n### 1. Write Small, Focused Tests\n- Design tests to validate single, specific behaviors.\n- Avoid testing multiple concerns in a single test.\n\n### 2. Use Descriptive Naming\n- Ensure test methods clearly describe what they are verifying.\n\n### 3. Maintain Fast Feedback\n- Tests should execute quickly to encourage frequent runs.\n\n### 4. Keep Test Code Clean\n- Refactor tests for clarity and reusability, just as production code.\n- Remove duplication and extract helper methods where appropriate.\n\n### 5. Mock External Dependencies\n- Isolate the unit under test by mocking or stubbing external systems.\n\n### 6. Embrace the Red/Green/Refactor Cycle\n- Do not write production code without a failing test first.\n- Only write enough code to pass the current test.\n\n### 7. Integrate Tests with CI/CD\n- Ensure all tests run automatically during Continuous Integration (CI) processes.\n\n### 8. Review and Pair on Tests\n- Include unit tests in code review processes.\n- Practice pair programming or mob programming on difficult-to-test components.\n\n## Implementation Plan\n\n### Phase 1: Education and Buy-in\n- Organize workshops or training sessions on TDD principles and best practices.\n- Share success stories and case studies.\n\n### Phase 2: Pilot Program\n- Select a new or small project to apply TDD end-to-end.\n- Document learnings, challenges, and improvements.\n\n### Phase 3: Organization-wide Rollout\n- Define TDD as a team standard for new development.\n- Update onboarding documentation and coding guidelines.\n- Provide mentorship and support for teams.\n\n### Phase 4: Continuous Improvement\n- Regularly review and refine our TDD process.\n- Collect feedback and measure impacts on code quality and productivity.\n\n## Risks and Mitigations\n\n- **Learning Curve:** Mitigate via training and pairing.\n- **Initial Productivity Dip:** Offset by long-term gains in quality and reduced rework.\n- **Resistance to Change:** Emphasize benefits, gather feedback, and iteratively roll out.\n\n## Expected Outcomes\n\n- Fewer production defects.\n- Improved development velocity over time.\n- Increased codebase maintainability.\n- Enhanced team satisfaction and confidence.\n\n## Conclusion\n\nAdopting TDD best practices represents a strategic investment in our software quality and team performance. We recommend starting the education phase and identifying a pilot project within the next sprint.\n\n---\n\n**Prepared by:**  \n[Your Name], [Your Position]  \n[Date]"
          },
          "metadata": {}
        }
      ]
    },
    {
      "cell_type": "markdown",
      "source": [
        "Build information so it can be sent to the AI model as part of prompt."
      ],
      "metadata": {
        "id": "TEHjzjpDxUIE"
      }
    },
    {
      "cell_type": "code",
      "source": [
        "term = \"\"\"\n",
        "Test-Driven Development (TDD) is a software development methodology where tests are written before the actual code implementation. The process follows a simple three-step cycle known as \"Red-Green-Refactor\":\n",
        "The TDD Cycle goes like this:\n",
        "- Red: Write a failing test for the requested functionality before any implementation code exists.\n",
        "- Green: Write the minimal amount of code necessary to make the test pass.\n",
        "- Refactor: Improve the code structure and design while keeping all tests passing.\n",
        "\n",
        "What are benefits of TDD?\n",
        "- TDD encourages better code design by forcing developers to think about requirements upfront.\n",
        "- It provides immediate feedback on code correctness and creates a comprehensive test suite that serves as both documentation and a safety net for future changes.\n",
        "- The approach typically results in more modular, loosely coupled code that's easier to maintain and modify.\n",
        "\n",
        "TDD requires discipline but often leads to higher code quality, fewer bugs in production, and greater confidence when making changes to existing codebases.\n",
        "\"\"\""
      ],
      "metadata": {
        "id": "spSVqxEhRvv_"
      },
      "execution_count": 31,
      "outputs": []
    },
    {
      "cell_type": "markdown",
      "source": [
        "**Attempt 2:** A Structured prompt for AI model to process"
      ],
      "metadata": {
        "id": "ShyOPBVixpUK"
      }
    },
    {
      "cell_type": "code",
      "source": [
        "response = client.responses.create(\n",
        "    model='gpt-4.1',\n",
        "    instructions=\"You are an experienced technology leader who excels in communicating technical, and clear to point proposals to a team of engineers with 2 to 5 years of professional experience. You are always responding with a positive, motivational tone. You are asked to insist on TDD best practices adaption for development.\",\n",
        "    input=\"I'll provide you with some text, and your task is to prepare a proposal that must contain problem definition, objectives, TDD best practices, implementation in SDLC phases, success criteria or rubrics, projected short-term long-term gains and conclusion. Your porposal must be in the form of a paragraph and/or bulleted list. Your proposal must be in text format and should not exceed 1200 words. Text:\\n '''%s'''\" % term\n",
        ")"
      ],
      "metadata": {
        "id": "t_PoApy7uPbY"
      },
      "execution_count": 32,
      "outputs": []
    },
    {
      "cell_type": "markdown",
      "source": [
        "Print the response generated by AI model for a given prompt"
      ],
      "metadata": {
        "id": "6lVSke2kyAk2"
      }
    },
    {
      "cell_type": "code",
      "source": [
        "printmd(response.output_text)"
      ],
      "metadata": {
        "colab": {
          "base_uri": "https://localhost:8080/",
          "height": 1000
        },
        "id": "5CnMi0TFud6k",
        "outputId": "b44901a8-2f85-421a-b02b-037997349969",
        "collapsed": true
      },
      "execution_count": 33,
      "outputs": [
        {
          "output_type": "display_data",
          "data": {
            "text/plain": [
              "<IPython.core.display.Markdown object>"
            ],
            "text/markdown": "Absolutely team! Below is a focused, actionable proposal for adopting TDD (Test-Driven Development) as a best practice. By following this guideline, we will enhance our code quality, foster collaboration, and ensure sustainable productivity for both our current and future projects.\n\n---\n\n### **Problem Definition**\n\nAs our codebase grows and evolves, we face increasing challenges in maintaining software quality, preventing regressions, and confidently implementing new features. Currently, bug fixes and new implementations often require significant manual testing and sometimes introduce unintentional side-effects, slowing down our velocity and reducing our confidence in deployments.\n\n---\n\n### **Objectives**\n\n- **Improve Code Quality:** Reduce bugs and ensure correctness of new and existing features.\n- **Speed Up Development:** Minimize time spent on manual testing and debugging.\n- **Enhance Code Maintainability:** Make it safer and easier to refactor or extend functionalities.\n- **Increase Developer Confidence:** Foster a culture where changes are validated instantly and reliably.\n\n---\n\n### **TDD Best Practices**\n\n- **Write Tests First:** Always begin by writing a failing test that describes the required functionality before writing production code.\n- **Follow the Red-Green-Refactor Cycle:**\n  - **Red:** Write just enough test code to fail and express the new desired behavior or fix.\n  - **Green:** Implement the simplest solution to make the test pass.\n  - **Refactor:** Clean up the code and tests for clarity, performance, and style, ensuring tests still pass afterward.\n- **Test Granularity:** Focus on small, easily testable units of code, enabling clear failure points and fast feedback.\n- **Comprehensive Coverage:** Strive for meaningful test coverage, prioritizing critical business logic and edge cases.\n- **Use Mocks/Stubs Wisely:** When dependencies are heavy or external, use mocks or stubs to ensure tests remain fast, reliable, and isolated.\n- **Peer Reviews:** Incorporate code reviews that include test coverage and test clarity as evaluation criteria.\n\n---\n\n### **Implementation in SDLC Phases**\n\n- **Requirement Analysis:**\n  - Translate requirements into user stories with clear, testable acceptance criteria.\n  - Collaborate with stakeholders to clarify behaviors before implementation.\n- **Design:**\n  - Consider how to structure code for maximum testability (e.g., modular design, dependency injection).\n- **Development:**\n  - Adopt TDD cycles for all new features and bug fixes.\n  - All implementation code should be preceded by an appropriately scoped test.\n- **Code Review:**\n  - Ensure every pull request includes relevant tests.\n  - Review both production and test code for quality and coverage.\n- **Testing:**\n  - Run full automated test suite on every commit/merge.\n  - Monitor test reliability; address flaky or incomplete tests promptly.\n- **Deployment & Maintenance:**\n  - Rely on green builds as go/no-go gates for releases.\n  - As the codebase evolves, use the test suite as a safeguard during refactoring and scaling.\n\n---\n\n### **Success Criteria / Rubrics**\n\n- **Test Coverage:** Achieve and maintain at least 80% automated test coverage across key modules.\n- **Defect Rate:** Observe a measurable reduction in post-release bugs and hotfixes.\n- **Development Velocity:** Reduce average time per feature delivery by ~15-20% over the next two quarters.\n- **Code Review Quality:** All PRs must include tests that cover the new or modified logic.\n- **Build Stability:** 95%+ of continuous integration builds pass on the first run.\n- **Team Feedback:** Collect quarterly feedback showing increased developer confidence and satisfaction.\n\n---\n\n### **Projected Gains**\n\n**Short-Term Gains:**\n- Rapid detection of defects before code merges, reducing rework.\n- Tight feedback loops, supporting faster and more confident feature development.\n- Improved documentation by way of comprehensive, up-to-date test suites.\n\n**Long-Term Gains:**\n- Significantly reduced bug rates in production, resulting in higher customer satisfaction.\n- Sustainable velocity as regressions are caught early, enabling safe refactoring and system evolution.\n- More collaborative, engaged team culture driven by shared code ownership and continuous improvement practices.\n\n---\n\n### **Conclusion**\n\nAdopting TDD is an investment in our team's efficiency, code quality, and long-term product health. While it may require an initial period of disciplined practice and learning, the positive impacts on our workflow and codebase will be clear and lasting. Let’s embrace these TDD best practices across our engineering workflows—focusing on writing tests first, iterating with confidence, and guaranteeing high-quality deliverables every sprint. Together, we’ll build software we trust and love to maintain!\n\nLet’s commit to excellence—one test at a time! 🚀"
          },
          "metadata": {}
        }
      ]
    },
    {
      "cell_type": "markdown",
      "source": [
        "---\n",
        "##Congratulations on running this fun exercise!\n",
        "A structured approach improves an AI model's ability to generate better responses. You just proved it yourself!</br>\n",
        "\n",
        "*Fun Fact:* If you are a technology leader, don't stop here, your proposal is ready to get your teams started on TDD adoption!</br>\n",
        "*Extra Credit:* Try variations inspired by R.I.S.E.N. and observe different responses </br>\n",
        "*Pro Tip:* swap *an experienced technology leader* for *an experienced Product Owner* or *motivational* to *critical* and see the difference.</br></br>\n",
        "Have Fun!</br>"
      ],
      "metadata": {
        "id": "LTIH5nRkx4b5"
      }
    }
  ]
}