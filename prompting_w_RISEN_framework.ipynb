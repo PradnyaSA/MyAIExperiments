{
  "nbformat": 4,
  "nbformat_minor": 0,
  "metadata": {
    "colab": {
      "provenance": []
    },
    "kernelspec": {
      "name": "python3",
      "display_name": "Python 3"
    },
    "language_info": {
      "name": "python"
    }
  },
  "cells": [
    {
      "cell_type": "markdown",
      "source": [
        "#**README**\n",
        "\n",
        "---\n",
        "\n",
        "## About the notebook\n",
        "This notebook demonstrates a structured approach to prompt engineering using frameworks such as the R.I.S.E.N. framework.\n",
        "It also shows the difference in responses between unstructured/poorly structured and structured prompts.</br>\n",
        "*Pre-requisites:* To run this notebook, you need an access key to the OpenAI API. You can get your API key from [openai](https://platform.openai.com/account/api-keys).\n",
        "\n",
        "## Topic: Prompt Engineering with a structured approach\n",
        "Prompt Engineering is a critical skill for maximizing AI performance, Optimizing Cost and Efficiency at scale, and Improving Consistency and Reliability. Above all, evolving models with sophisticated reasoning abilities thrive on techniques such as Chain-of-thought, few-shot prompting, and more.\n",
        "This hands-on exercise is a starting point to build some understanding about a structured approach to prompt engineering.\n",
        "\n",
        "Brief Explanation of one of the Structural frameworks - the R.I.S.E.N. Framework:</br>\n",
        "- R = ROLE(or persona): Giving a clear role helps the AI model establish the appropriate tone, expertise level, and perspective.\n",
        "- I = INSTRUCTIONS:     Giving a direct command helps the AI model understand specific directions about the task.\n",
        "- S = STEPS:            Giving a breakdown of the task into logical parts helps the AI model organize its thinking and prevents it from missing important information on multi-part requests.\n",
        "- E = EXAMPLES:         Giving an example or end goal helps the AI model format a response as expected.\n",
        "- N = NARROWING:        Giving restrictions on scope, length, or complexity helps the AI model work within given constraints.\n",
        "\n",
        "## Conclusion\n",
        "A structured approach to writing a prompt is more likely to produce the results we expect. It helps AI models reduce ambiguity, scope creep, or even inconsistencies.\n",
        "\n",
        "---"
      ],
      "metadata": {
        "id": "fC-NxhKbRHOp"
      }
    },
    {
      "cell_type": "code",
      "source": [
        "# Hands-on excercise using OpenAI API and GPT4.1"
      ],
      "metadata": {
        "id": "aA98r6bSg5ui"
      },
      "execution_count": 34,
      "outputs": []
    },
    {
      "cell_type": "markdown",
      "source": [
        "### About this excercise:\n",
        "</br>\n",
        "\n",
        "|Category|Description|\n",
        "|:--|:--|\n",
        "|Task |Generate proposals about TDD adoption|\n",
        "|Difficuly Level|Beginner|\n",
        "|Skills|Python|\n",
        "</br>\n",
        "\n",
        "Import display and Markdown from IPython for formatted rendering of generated response"
      ],
      "metadata": {
        "id": "t5fX29goEYf1"
      }
    },
    {
      "cell_type": "code",
      "source": [
        "from IPython.display import Markdown, display"
      ],
      "metadata": {
        "id": "tOBg13jg816S"
      },
      "execution_count": 35,
      "outputs": []
    },
    {
      "cell_type": "code",
      "source": [
        "def printmd(string):\n",
        "    display(Markdown(string))"
      ],
      "metadata": {
        "id": "g4Ox90irebfo"
      },
      "execution_count": 36,
      "outputs": []
    },
    {
      "cell_type": "markdown",
      "source": [
        "Import - interact with the OpenAI API, allows us to make requests to models like GPT-4.1"
      ],
      "metadata": {
        "id": "FM78qcTOSOdK"
      }
    },
    {
      "cell_type": "code",
      "execution_count": 37,
      "metadata": {
        "id": "VXpCYVk5uGDG"
      },
      "outputs": [],
      "source": [
        "from openai import OpenAI"
      ]
    },
    {
      "cell_type": "markdown",
      "source": [
        "Access setup - This function allows secure access to user-defined secrets stored in the Colab environment, such as API keys."
      ],
      "metadata": {
        "id": "FSAEuTOnSndK"
      }
    },
    {
      "cell_type": "code",
      "source": [
        "from google.colab import userdata"
      ],
      "metadata": {
        "id": "NL9XsB60uMzL"
      },
      "execution_count": 38,
      "outputs": []
    },
    {
      "cell_type": "markdown",
      "source": [
        "Configure Access Key - in this exmpale, for open api. </br>\n",
        "How to configure API access keys in Colab:\n",
        "\n",
        "1. Go to the \"🔑\" icon in the left sidebar (Secrets).\n",
        "2. Click \"Add new secret\".\n",
        "3. For the name, use 'openai_api_key'.\n",
        "4. For the value, paste your OpenAI API key.\n",
        "5. Make sure \"Notebook access\" is enabled for this secret.\n"
      ],
      "metadata": {
        "id": "7YmYmdejTN36"
      }
    },
    {
      "cell_type": "code",
      "source": [
        "client = OpenAI(api_key=userdata.get('openai_api_key'))"
      ],
      "metadata": {
        "id": "v8tFQuE3uNLQ"
      },
      "execution_count": 39,
      "outputs": []
    },
    {
      "cell_type": "markdown",
      "source": [
        "**Attempt 1:** An unstructured/poorly structured prompt for AI model to process"
      ],
      "metadata": {
        "id": "VkRhL7yEwyQT"
      }
    },
    {
      "cell_type": "code",
      "source": [
        "response = client.responses.create(\n",
        "    model='gpt-4.1',\n",
        "    input=\"Write a proposal on TDD best practices adaption for development\"\n",
        ")"
      ],
      "metadata": {
        "id": "tciPs-iYG0ja"
      },
      "execution_count": 40,
      "outputs": []
    },
    {
      "cell_type": "markdown",
      "source": [
        "Print the response generated by AI model for a given prompt"
      ],
      "metadata": {
        "id": "ulb4jh5SxBMu"
      }
    },
    {
      "cell_type": "code",
      "source": [
        "printmd('<div style=\"background-color: lightblue; padding: 10px;\">%s</div>' % response.output_text)"
      ],
      "metadata": {
        "id": "Q1ys6iR7HyLf",
        "colab": {
          "base_uri": "https://localhost:8080/",
          "height": 1000
        },
        "outputId": "58bfe44d-fa8e-4c16-ed09-323d21c57c4d"
      },
      "execution_count": 47,
      "outputs": [
        {
          "output_type": "display_data",
          "data": {
            "text/plain": [
              "<IPython.core.display.Markdown object>"
            ],
            "text/markdown": "<div style=\"background-color: lightblue; padding: 10px;\">Absolutely! Here’s a crisp, motivational proposal tailored to your development team:\n\n---\n\n# Proposal: Adopting Test-Driven Development (TDD) for Enhanced Software Quality\n\n## Problem Definition  \nAs our product and codebase grow in complexity, we face increasing challenges related to code maintainability, regression bugs, and unclear requirements. Current development practices sometimes lead to insufficient test coverage and higher cycle times for debugging and feature modifications. This slows our momentum and puts business continuity at risk.\n\n## Objectives  \n- To improve code quality and maintainability.\n- To reduce bugs in production through increased automated test coverage.\n- To strengthen team confidence when modifying or extending our codebase.\n- To foster a culture of clear requirement definition and documentation.\n\n## TDD Best Practices  \nTo ensure successful TDD implementation, the following best practices are to be ingrained in our workflow:\n- **Start with Tests:** Always begin by writing a failing test that defines the expected behavior (Red).\n- **Minimum Code for Success:** Implement the simplest code that will make the failing test pass (Green).\n- **Continuous Refactoring:** After a test passes, refactor the code for clarity and efficiency without altering its behavior, ensuring all tests continue to pass (Refactor).\n- **Small, Incremental Steps:** Make small, incremental changes; avoid writing large amounts of production code without tests.\n- **One Test at a Time:** Focus on one new failing test at a time to maintain clarity of intent.\n- **Test Readability:** Write clear, intention-revealing tests that provide living documentation for the codebase.\n- **Frequent Commits:** Commit changes frequently to maintain a clear development history and enable effective collaboration.\n- **Peer Reviews:** Encourage pair programming or code reviews focused on both code and test quality.\n\n## Implementation in SDLC Phases  \n\n**1. Requirements & Design**\n- Collaborate with stakeholders to define clear, testable requirements.\n- Break down features into testable units.\n\n**2. Development**\n- Adhere strictly to the TDD Red-Green-Refactor cycle.\n- Write unit tests before any production code for every new feature or bugfix.\n- Document non-trivial behaviors through well-named test cases.\n\n**3. Code Review**\n- Reviews must check for proper TDD adherence: all code changes should be accompanied by relevant tests.\n- Encourage discussion on test coverage, edge cases, and clarity.\n\n**4. Integration & Testing**\n- Maintain a CI pipeline that runs all tests automatically on every commit.\n- Use test results to gate releases and merge approvals.\n\n**5. Maintenance**\n- When fixing bugs, add a failing test that reproduces the issue first, and only then implement the fix to make the test pass.\n- Continuously refactor both code and test suites to accommodate evolving requirements.\n\n## Success Criteria / Rubrics  \nWe’ll know we are succeeding by:\n- **Test Coverage:** 90%+ automated unit test coverage for new code.\n- **Defect Rate:** Reduction in bug reports from production and user acceptance testing.\n- **Development Cycle Time:** Faster feature delivery and bug resolution due to early detection and clear requirements.\n- **Code Reviews:** All pull requests demonstrate the Red-Green-Refactor cycle and include meaningful, passing tests.\n- **Team Satisfaction:** Positive feedback from the team about reduced debugging sessions and higher confidence in deployments.\n\n## Projected Gains  \n\n**Short-Term Gains**\n- Immediate feedback during development, catching errors early.\n- Lower time spent on debugging and regression testing.\n- Clearer code requirements and shared understanding within the team.\n- Early wins in reliability and developer confidence through enforced test coverage.\n\n**Long-Term Gains**\n- Significantly reduced maintenance cost as code remains modular and well-tested.\n- Ability to make large-scale changes or refactoring with minimal fear of breaking the system.\n- Evolving a robust, living test suite that acts as documentation and onboarding aid for new team members.\n- Cultural shift towards quality-first engineering, improving our reputation and stakeholder trust.\n\n## Conclusion  \nBy embracing TDD as a core development best practice, we position ourselves to build higher-quality, more maintainable, and resilient software. This methodology empowers each of us to not only deliver on requirements efficiently but also to take ownership in crafting robust and well-documented solutions. Let’s champion TDD as our default workflow, supporting each other as we build a consistent, disciplined, and successful engineering culture. Your commitment and creativity will be pivotal, and together, we will raise our standards and delight our users with every release!\n\n---\n\nLet’s make TDD our competitive advantage—your expertise and dedication will make it a success!</div>"
          },
          "metadata": {}
        }
      ]
    },
    {
      "cell_type": "markdown",
      "source": [
        "Build information so it can be sent to the AI model as part of prompt."
      ],
      "metadata": {
        "id": "TEHjzjpDxUIE"
      }
    },
    {
      "cell_type": "code",
      "source": [
        "term = \"\"\"\n",
        "Test-Driven Development (TDD) is a software development methodology where tests are written before the actual code implementation. The process follows a simple three-step cycle known as \"Red-Green-Refactor\":\n",
        "The TDD Cycle goes like this:\n",
        "- Red: Write a failing test for the requested functionality before any implementation code exists.\n",
        "- Green: Write the minimal amount of code necessary to make the test pass.\n",
        "- Refactor: Improve the code structure and design while keeping all tests passing.\n",
        "\n",
        "What are benefits of TDD?\n",
        "- TDD encourages better code design by forcing developers to think about requirements upfront.\n",
        "- It provides immediate feedback on code correctness and creates a comprehensive test suite that serves as both documentation and a safety net for future changes.\n",
        "- The approach typically results in more modular, loosely coupled code that's easier to maintain and modify.\n",
        "\n",
        "TDD requires discipline but often leads to higher code quality, fewer bugs in production, and greater confidence when making changes to existing codebases.\n",
        "\"\"\""
      ],
      "metadata": {
        "id": "spSVqxEhRvv_"
      },
      "execution_count": 42,
      "outputs": []
    },
    {
      "cell_type": "markdown",
      "source": [
        "**Attempt 2:** A Structured prompt for AI model to process"
      ],
      "metadata": {
        "id": "ShyOPBVixpUK"
      }
    },
    {
      "cell_type": "code",
      "source": [
        "response = client.responses.create(\n",
        "    model='gpt-4.1',\n",
        "    instructions=\"You are an experienced technology leader who excels in communicating technical, and clear to point proposals to a team of engineers with 2 to 5 years of professional experience. You are always responding with a positive, motivational tone. You are asked to insist on TDD best practices adaption for development.\",\n",
        "    input=\"I'll provide you with some text, and your task is to prepare a proposal that must contain problem definition, objectives, TDD best practices, implementation in SDLC phases, success criteria or rubrics, projected short-term long-term gains and conclusion. Your porposal must be in the form of a paragraph and/or bulleted list. Your proposal must be in text format and should not exceed 1200 words. Text:\\n '''%s'''\" % term\n",
        ")"
      ],
      "metadata": {
        "id": "t_PoApy7uPbY"
      },
      "execution_count": 43,
      "outputs": []
    },
    {
      "cell_type": "markdown",
      "source": [
        "Print the response generated by AI model for a given prompt"
      ],
      "metadata": {
        "id": "6lVSke2kyAk2"
      }
    },
    {
      "cell_type": "code",
      "source": [
        "printmd('<div style=\"background-color: #a8ee90; padding: 10px;\">%s</div>' % response.output_text)"
      ],
      "metadata": {
        "id": "5CnMi0TFud6k",
        "collapsed": true,
        "colab": {
          "base_uri": "https://localhost:8080/",
          "height": 1000
        },
        "outputId": "a70f32a7-e396-4858-f1d6-57caa758acf9"
      },
      "execution_count": 48,
      "outputs": [
        {
          "output_type": "display_data",
          "data": {
            "text/plain": [
              "<IPython.core.display.Markdown object>"
            ],
            "text/markdown": "<div style=\"background-color: #a8ee90; padding: 10px;\">Absolutely! Here’s a crisp, motivational proposal tailored to your development team:\n\n---\n\n# Proposal: Adopting Test-Driven Development (TDD) for Enhanced Software Quality\n\n## Problem Definition  \nAs our product and codebase grow in complexity, we face increasing challenges related to code maintainability, regression bugs, and unclear requirements. Current development practices sometimes lead to insufficient test coverage and higher cycle times for debugging and feature modifications. This slows our momentum and puts business continuity at risk.\n\n## Objectives  \n- To improve code quality and maintainability.\n- To reduce bugs in production through increased automated test coverage.\n- To strengthen team confidence when modifying or extending our codebase.\n- To foster a culture of clear requirement definition and documentation.\n\n## TDD Best Practices  \nTo ensure successful TDD implementation, the following best practices are to be ingrained in our workflow:\n- **Start with Tests:** Always begin by writing a failing test that defines the expected behavior (Red).\n- **Minimum Code for Success:** Implement the simplest code that will make the failing test pass (Green).\n- **Continuous Refactoring:** After a test passes, refactor the code for clarity and efficiency without altering its behavior, ensuring all tests continue to pass (Refactor).\n- **Small, Incremental Steps:** Make small, incremental changes; avoid writing large amounts of production code without tests.\n- **One Test at a Time:** Focus on one new failing test at a time to maintain clarity of intent.\n- **Test Readability:** Write clear, intention-revealing tests that provide living documentation for the codebase.\n- **Frequent Commits:** Commit changes frequently to maintain a clear development history and enable effective collaboration.\n- **Peer Reviews:** Encourage pair programming or code reviews focused on both code and test quality.\n\n## Implementation in SDLC Phases  \n\n**1. Requirements & Design**\n- Collaborate with stakeholders to define clear, testable requirements.\n- Break down features into testable units.\n\n**2. Development**\n- Adhere strictly to the TDD Red-Green-Refactor cycle.\n- Write unit tests before any production code for every new feature or bugfix.\n- Document non-trivial behaviors through well-named test cases.\n\n**3. Code Review**\n- Reviews must check for proper TDD adherence: all code changes should be accompanied by relevant tests.\n- Encourage discussion on test coverage, edge cases, and clarity.\n\n**4. Integration & Testing**\n- Maintain a CI pipeline that runs all tests automatically on every commit.\n- Use test results to gate releases and merge approvals.\n\n**5. Maintenance**\n- When fixing bugs, add a failing test that reproduces the issue first, and only then implement the fix to make the test pass.\n- Continuously refactor both code and test suites to accommodate evolving requirements.\n\n## Success Criteria / Rubrics  \nWe’ll know we are succeeding by:\n- **Test Coverage:** 90%+ automated unit test coverage for new code.\n- **Defect Rate:** Reduction in bug reports from production and user acceptance testing.\n- **Development Cycle Time:** Faster feature delivery and bug resolution due to early detection and clear requirements.\n- **Code Reviews:** All pull requests demonstrate the Red-Green-Refactor cycle and include meaningful, passing tests.\n- **Team Satisfaction:** Positive feedback from the team about reduced debugging sessions and higher confidence in deployments.\n\n## Projected Gains  \n\n**Short-Term Gains**\n- Immediate feedback during development, catching errors early.\n- Lower time spent on debugging and regression testing.\n- Clearer code requirements and shared understanding within the team.\n- Early wins in reliability and developer confidence through enforced test coverage.\n\n**Long-Term Gains**\n- Significantly reduced maintenance cost as code remains modular and well-tested.\n- Ability to make large-scale changes or refactoring with minimal fear of breaking the system.\n- Evolving a robust, living test suite that acts as documentation and onboarding aid for new team members.\n- Cultural shift towards quality-first engineering, improving our reputation and stakeholder trust.\n\n## Conclusion  \nBy embracing TDD as a core development best practice, we position ourselves to build higher-quality, more maintainable, and resilient software. This methodology empowers each of us to not only deliver on requirements efficiently but also to take ownership in crafting robust and well-documented solutions. Let’s champion TDD as our default workflow, supporting each other as we build a consistent, disciplined, and successful engineering culture. Your commitment and creativity will be pivotal, and together, we will raise our standards and delight our users with every release!\n\n---\n\nLet’s make TDD our competitive advantage—your expertise and dedication will make it a success!</div>"
          },
          "metadata": {}
        }
      ]
    },
    {
      "cell_type": "markdown",
      "source": [
        "---\n",
        "##Congratulations on running this fun exercise!\n",
        "A structured approach improves an AI model's ability to generate better responses. You just proved it yourself!</br>\n",
        "\n",
        "*Fun Fact:* If you are a technology leader, don't stop here, your proposal is ready to get your teams started on TDD adoption!</br>\n",
        "*Extra Credit:* Try variations inspired by R.I.S.E.N. and observe different responses </br>\n",
        "*Pro Tip:* swap *an experienced technology leader* for *an experienced Product Owner* or *motivational* to *critical* and see the difference.</br></br>\n",
        "Have Fun!</br>"
      ],
      "metadata": {
        "id": "LTIH5nRkx4b5"
      }
    }
  ]
}