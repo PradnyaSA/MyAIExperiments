{
  "nbformat": 4,
  "nbformat_minor": 0,
  "metadata": {
    "colab": {
      "provenance": []
    },
    "kernelspec": {
      "name": "python3",
      "display_name": "Python 3"
    },
    "language_info": {
      "name": "python"
    }
  },
  "cells": [
    {
      "cell_type": "code",
      "execution_count": 23,
      "metadata": {
        "id": "VXpCYVk5uGDG"
      },
      "outputs": [],
      "source": [
        "\"\"\"\n",
        "README:\n",
        "This notebook demonstrates how to use the OpenAI API with a structured approach to prompt engineering such as the R.I.S.E.N. framework.\n",
        "It also shows the difference in responses between unstructured and structured prompts.\n",
        "Pre-requisites: You need access to the OpenAI API. You can get your API key from https://platform.openai.com/account/api-keys.\n",
        "\n",
        "Prompt Engineering is a critical skill to maximize AI performance, Optimize Cost and Efficiency at scale, Improve Consistency and Reliability. Above all, evolving models with sophisticated reasoning abilities thrive on techniques like Chain-of-thought, few shot prompting, and more.\n",
        "This hands-on excercise is a beginning to build some understanding about structured approach to prompt engineering.\n",
        "\n",
        "Brief Explaination of one of the Structural framework - the R.I.S.E.N. Framework:\n",
        "- R=ROLE(or persona): Giving a clear role helps AI model establish the appropriate tone, expertise level, and perspective.\n",
        "- I=INSTRUCTIONS:     Giving a direct command help AI model understand specific directions about the task.\n",
        "- S=STEPS:            Giving a breakdown of task into logical parts helps AI model organize its thinking and prevents from missing important information on multi-part requests.\n",
        "- E=EXAMPLES:         Giving an example or end goal helps AI model format response as expected.\n",
        "- N=NARROWING:        Giving restrictions on scope, length or complexity helps AI model work within given constraints.\n",
        "\n",
        "\n",
        "Using a structured approach to write a prompt, is more likely to produce the results we expect. It helps AI model reduce ambiguity, scope creeps or even inconsistenies.\n",
        "\n",
        "\"\"\"\n",
        "\n",
        "from openai import OpenAI #interact with the OpenAI API, allows us to make requests to models like GPT-4.1."
      ]
    },
    {
      "cell_type": "code",
      "source": [
        "from google.colab import userdata #This function allows secure access to user-defined secrets stored in the Colab environment, such as API keys."
      ],
      "metadata": {
        "id": "NL9XsB60uMzL"
      },
      "execution_count": 24,
      "outputs": []
    },
    {
      "cell_type": "code",
      "source": [
        "client = OpenAI(api_key=userdata.get('openai_api_key')) #you can configure your access key for open api"
      ],
      "metadata": {
        "id": "v8tFQuE3uNLQ"
      },
      "execution_count": 25,
      "outputs": []
    },
    {
      "cell_type": "code",
      "source": [
        "#Example of an unstructured/poorly structured prompt\n",
        "response = client.responses.create( #create a response using the OpenAI client,\n",
        "    model='gpt-4.1', # specify model of your choice,\n",
        "    input=\"Write something about TDD\" # set the input text for the model to process.\n",
        ")"
      ],
      "metadata": {
        "id": "tciPs-iYG0ja"
      },
      "execution_count": 26,
      "outputs": []
    },
    {
      "cell_type": "code",
      "source": [
        "response.output_text #print response for an unstructured/poorly structured prompt"
      ],
      "metadata": {
        "colab": {
          "base_uri": "https://localhost:8080/",
          "height": 174
        },
        "id": "Q1ys6iR7HyLf",
        "outputId": "775d77e2-beb1-49ca-8b54-0eda5452e673"
      },
      "execution_count": 27,
      "outputs": [
        {
          "output_type": "execute_result",
          "data": {
            "text/plain": [
              "\"Certainly! Here’s an overview of **TDD (Test-Driven Development):**\\n\\n---\\n\\n## What is TDD?\\n\\n**Test-Driven Development (TDD)** is a software development approach in which tests are written before writing the bare minimum of code necessary to pass those tests. The basic idea is to **write a failing test first, implement the simplest code to pass the test, and then refactor the code as needed** while ensuring the tests still pass.\\n\\n---\\n\\n## Key Steps of TDD\\n\\nTDD generally follows a simple and repetitive **cycle**, often called **Red-Green-Refactor**:\\n\\n1. **Red:**  \\n   Write a test that describes a function or improvement. This test will initially fail since the feature doesn't exist yet.\\n\\n2. **Green:**  \\n   Write the minimal code required to make the test pass.\\n\\n3. **Refactor:**  \\n   Clean up the code for readability and maintainability, without changing its behavior. Ensure tests still pass after refactoring.\\n\\n4. **Repeat:**  \\n   Continue with the next behavior or feature, repeating the cycle.\\n\\n---\\n\\n## Benefits of TDD\\n\\n- **Higher Code Quality:** Ensures code works as intended from the start.\\n- **Refactoring Confidence:** Tests act as a safety net for changes and refactoring.\\n- **Reduced Debugging Time:** Problems are caught early, when they are easier to fix.\\n- **Better Design:** Encourages modular, loosely coupled, and testable code.\\n- **Comprehensive Test Coverage:** Test cases tend to be more complete and up-to-date.\\n\\n---\\n\\n## Common Myths\\n\\n- **TDD Is Only for Testing:**  \\n  Actually, TDD is a design technique just as much as a testing approach. The tests guide how you design your code.\\n\\n- **TDD Slows Down Development:**  \\n  While it might feel slower initially, TDD often results in less time spent debugging and fixing issues later.\\n\\n---\\n\\n## Example (Python Pseudocode):\\n\\n```python\\n# Step 1: Red - Write a failing test\\ndef test_add():\\n    assert add(2, 3) == 5\\n\\n# Step 2: Green - Write minimal code to pass the test\\ndef add(a, b):\\n    return a + b\\n\\n# Step 3: Refactor - Clean up if needed\\n# (Already minimal and clean)\\n```\\n\\n---\\n\\n## Final Thoughts\\n\\nTDD is an effective practice for improving software reliability, maintainability, and design. It’s commonly used in Agile environments and works well with modern continuous integration/continuous deployment (CI/CD) pipelines.\\n\\n---\\n\\nIf you’re beginning with TDD, start small, be disciplined with cycles, and enjoy the confidence that comes with well-tested code!\""
            ],
            "application/vnd.google.colaboratory.intrinsic+json": {
              "type": "string"
            }
          },
          "metadata": {},
          "execution_count": 27
        }
      ]
    },
    {
      "cell_type": "code",
      "source": [
        "term = \"\"\"\n",
        "Test-Driven Development (TDD) is a software development methodology where tests are written before the actual code implementation. The process follows a simple three-step cycle known as \"Red-Green-Refactor\":\n",
        "The TDD Cycle goes like this:\n",
        "- Red: Write a failing test for the requested functionality before any implementation code exists.\n",
        "- Green: Write the minimal amount of code necessary to make the test pass.\n",
        "- Refactor: Improve the code structure and design while keeping all tests passing.\n",
        "\n",
        "What are benefits of TDD?\n",
        "- TDD encourages better code design by forcing developers to think about requirements upfront.\n",
        "- It provides immediate feedback on code correctness and creates a comprehensive test suite that serves as both documentation and a safety net for future changes.\n",
        "- The approach typically results in more modular, loosely coupled code that's easier to maintain and modify.\n",
        "\n",
        "TDD requires discipline but often leads to higher code quality, fewer bugs in production, and greater confidence when making changes to existing codebases.\n",
        "\"\"\""
      ],
      "metadata": {
        "id": "spSVqxEhRvv_"
      },
      "execution_count": 28,
      "outputs": []
    },
    {
      "cell_type": "code",
      "source": [
        "#Example of using a Structured approach to prompt engineering\n",
        "response = client.responses.create( #create a response using the OpenAI client,\n",
        "    model='gpt-4.1',  # specify model of your choice,\n",
        "    instructions=\"You are an experienced technology leader who excels in communicating technical, and clear to point proposals to a team of engineers with 2 to 5 years of professional experience. You are always responding with a positive, motivational tone. You are asked to insist on TDD best practices adaption for development.\",\n",
        "    input=\"I'll provide you with some text, and your task is to prepare a proposal that must contain problem definition, proposed solution and projected short-term and long-term gains. Your porposal must be in the form of a short paragraph and/or bulleted list. Your proposal must be in text format and should not exceed 1200 words. Text:\\n '''%s'''\" % term\n",
        ")\n",
        "#Extra Credit: Try variations inspired by RISEN and observe difference in response\n",
        "#Fun excercise: swap \"an experienced technology leader\" for \"an experienced Product Owner\""
      ],
      "metadata": {
        "id": "t_PoApy7uPbY"
      },
      "execution_count": 29,
      "outputs": []
    },
    {
      "cell_type": "code",
      "source": [
        "response.output_text #print response when using a Structured approach for prompting"
      ],
      "metadata": {
        "colab": {
          "base_uri": "https://localhost:8080/",
          "height": 157
        },
        "id": "5CnMi0TFud6k",
        "outputId": "46a86fea-b675-497b-8c2a-58b538dd36cb",
        "collapsed": true
      },
      "execution_count": 30,
      "outputs": [
        {
          "output_type": "execute_result",
          "data": {
            "text/plain": [
              "'Certainly! Here’s a concise, motivational proposal urging the team to adopt TDD, structured as requested:\\n\\n---\\n\\n**Proposal for Adopting Test-Driven Development (TDD)**\\n\\n**Problem Definition:**  \\nCurrently, our development workflow sometimes results in code that is harder to maintain, less modular, and more prone to unforeseen bugs—especially as our codebase grows. Additionally, we can sometimes lack confidence when refactoring existing features, as comprehensive, up-to-date test coverage is not always guaranteed.  \\n\\n**Proposed Solution:**  \\nI propose we formally adopt Test-Driven Development (TDD) as a team-wide best practice. TDD is a proven methodology that places tests at the heart of our workflow by requiring us to write failing tests before implementing any functionality. This process follows three clear, actionable steps:  \\n- **Red:** Define precise requirements and create a failing test for new functionality.\\n- **Green:** Write the minimum code required to pass the test, ensuring quick feedback on correctness.\\n- **Refactor:** Improve code clarity, structure, and maintainability—with the confidence that our tests safeguard correct behavior.\\n\\n**Projected Gains:**  \\n\\n*Short-term Benefits:*\\n- **Immediate feedback:** Catch defects early, speeding up the debug-and-fix cycle.\\n- **Clearer requirements:** Writing tests first clarifies expectations for every feature or bugfix.\\n- **Confidence boosting:** Team members get assurance their code works as intended, thanks to ever-present tests.\\n\\n*Long-term Benefits:*\\n- **Higher code quality:** TDD fosters modular, loosely-coupled code, greatly simplifying future enhancements.\\n- **Regression protection:** A robust, up-to-date test suite minimizes risk of introducing bugs when making changes.\\n- **Easier onboarding:** New engineers can ramp up faster, using tests as living documentation of the code’s correct usage and behavior.\\n- **Cultural foundation:** TDD promotes a culture of discipline and continuous improvement, raising our professional standard as a team.\\n\\nLet’s commit to integrating TDD in our daily development process. Adopting TDD together means better collaboration, fewer late-stage surprises, and a codebase we can all be proud of—now and in the future!'"
            ],
            "application/vnd.google.colaboratory.intrinsic+json": {
              "type": "string"
            }
          },
          "metadata": {},
          "execution_count": 30
        }
      ]
    }
  ]
}